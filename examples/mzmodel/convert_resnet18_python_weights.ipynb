{
 "cells": [
  {
   "cell_type": "markdown",
   "metadata": {},
   "source": [
    "This example shows how to convert pretrained weights from Pytorch to the format that can be loaded by C++ based program, and used by the DLmodelzoo action set as well as dlpy `mzmodel()`. The function `convert_torchvision_model_weights` takes the parameter `model_name`, where we specify the full name of the model. Currently supported models are:\n",
    "- resnet(resnet18, resnet34, resnet50, resnet101) \n",
    "- vgg(vgg11, vgg13, vgg16, vgg19)\n",
    "- shufflenet(shufflenet_v2_x0_5, shufflenet_v2_x1_0)\n",
    "- mobilenet(mobilenet_v2)"
   ]
  },
  {
   "cell_type": "code",
   "execution_count": 1,
   "metadata": {},
   "outputs": [],
   "source": [
    "import swat as sw\n",
    "from dlpy.mzmodel import *\n",
    "from dlpy.utils import *\n",
    "from dlpy.mzmodel_utils import *"
   ]
  },
  {
   "cell_type": "code",
   "execution_count": 2,
   "metadata": {
    "tags": []
   },
   "outputs": [],
   "source": [
    "s = sw.CAS('cloud.example.com', 5570)"
   ]
  },
  {
   "cell_type": "code",
   "execution_count": 3,
   "metadata": {},
   "outputs": [
    {
     "name": "stdout",
     "output_type": "stream",
     "text": [
      "NOTE: Cloud Analytic Services added the caslib 'dnfs'.\n"
     ]
    },
    {
     "data": {
      "text/html": [
       "<div class=\"cas-results-key\"><b>&#167; CASLibInfo</b></div>\n",
       "<div class=\"cas-results-body\">\n",
       "<div>\n",
       "<style scoped>\n",
       "    .dataframe tbody tr th:only-of-type {\n",
       "        vertical-align: middle;\n",
       "    }\n",
       "\n",
       "    .dataframe tbody tr th {\n",
       "        vertical-align: top;\n",
       "    }\n",
       "\n",
       "    .dataframe thead th {\n",
       "        text-align: right;\n",
       "    }\n",
       "</style>\n",
       "<table border=\"1\" class=\"dataframe\">\n",
       "  <thead>\n",
       "    <tr style=\"text-align: right;\">\n",
       "      <th title=\"\"></th>\n",
       "      <th title=\"Name\">Name</th>\n",
       "      <th title=\"Type\">Type</th>\n",
       "      <th title=\"Description\">Description</th>\n",
       "      <th title=\"Path\">Path</th>\n",
       "      <th title=\"Definition\">Definition</th>\n",
       "      <th title=\"Subdirs\">Subdirs</th>\n",
       "      <th title=\"Local\">Local</th>\n",
       "      <th title=\"Active\">Active</th>\n",
       "      <th title=\"Personal\">Personal</th>\n",
       "      <th title=\"Hidden\">Hidden</th>\n",
       "      <th title=\"Transient\">Transient</th>\n",
       "    </tr>\n",
       "  </thead>\n",
       "  <tbody>\n",
       "    <tr>\n",
       "      <td>0</td>\n",
       "      <td>dnfs</td>\n",
       "      <td>PATH</td>\n",
       "      <td></td>\n",
       "      <td>/example/path/</td>\n",
       "      <td></td>\n",
       "      <td>1.0</td>\n",
       "      <td>1.0</td>\n",
       "      <td>0.0</td>\n",
       "      <td>0.0</td>\n",
       "      <td>0.0</td>\n",
       "      <td>0.0</td>\n",
       "    </tr>\n",
       "  </tbody>\n",
       "</table>\n",
       "</div>\n",
       "</div>\n",
       "<div class=\"cas-output-area\"></div>\n",
       "<p class=\"cas-results-performance\"><small><span class=\"cas-elapsed\">elapsed 0.00553s</span> &#183; <span class=\"cas-user\">user 0.00348s</span> &#183; <span class=\"cas-sys\">sys 0.00136s</span> &#183; <span class=\"cas-memory\">mem 0.722MB</span></small></p>"
      ],
      "text/plain": [
       "[CASLibInfo]\n",
       "\n",
       "    Name  Type Description               Path Definition  Subdirs  Local  Active  Personal  Hidden  Transient\n",
       " 0  dnfs  PATH              /example/path/                 1.0    1.0     0.0       0.0     0.0        0.0\n",
       "\n",
       "+ Elapsed: 0.00553s, user: 0.00348s, sys: 0.00136s, mem: 0.722mb"
      ]
     },
     "execution_count": 3,
     "metadata": {},
     "output_type": "execute_result"
    }
   ],
   "source": [
    "s.table.addcaslib(activeonadd=False,\n",
    "                  datasource={'srctype':'path'},\n",
    "                  name='dnfs',\n",
    "                  path='/example/path',\n",
    "                  subdirectories=True)"
   ]
  },
  {
   "cell_type": "code",
   "execution_count": 4,
   "metadata": {
    "tags": []
   },
   "outputs": [
    {
     "name": "stdout",
     "output_type": "stream",
     "text": [
      "NOTE: Cloud Analytic Services made the file data/cifar10_small.sashdat available as table DATA in caslib CASUSER(userID).\n"
     ]
    },
    {
     "data": {
      "text/html": [
       "<div class=\"cas-results-key\"><b>&#167; caslib</b></div>\n",
       "<div class=\"cas-results-body\">\n",
       "<div>CASUSER(userID)</div>\n",
       "</div>\n",
       "<div class=\"cas-results-key\"><hr/><b>&#167; tableName</b></div>\n",
       "<div class=\"cas-results-body\">\n",
       "<div>DATA</div>\n",
       "</div>\n",
       "<div class=\"cas-results-key\"><hr/><b>&#167; casTable</b></div>\n",
       "<div class=\"cas-results-body\">\n",
       "<div>CASTable('DATA', caslib='CASUSER(userID)')</div>\n",
       "</div>\n",
       "<div class=\"cas-output-area\"></div>\n",
       "<p class=\"cas-results-performance\"><small><span class=\"cas-elapsed\">elapsed 0.0111s</span> &#183; <span class=\"cas-user\">user 0.00686s</span> &#183; <span class=\"cas-sys\">sys 0.0027s</span> &#183; <span class=\"cas-memory\">mem 0.854MB</span></small></p>"
      ],
      "text/plain": [
       "[caslib]\n",
       "\n",
       " 'CASUSER(userID)'\n",
       "\n",
       "[tableName]\n",
       "\n",
       " 'DATA'\n",
       "\n",
       "[casTable]\n",
       "\n",
       " CASTable('DATA', caslib='CASUSER(userID)')\n",
       "\n",
       "+ Elapsed: 0.0111s, user: 0.00686s, sys: 0.0027s, mem: 0.854mb"
      ]
     },
     "execution_count": 4,
     "metadata": {},
     "output_type": "execute_result"
    }
   ],
   "source": [
    "s.table.loadTable(caslib='dnfs', path='data/cifar10_small.sashdat', \n",
    "    casout = dict(name = 'data', blocksize = '1', replace = True))"
   ]
  },
  {
   "cell_type": "markdown",
   "metadata": {},
   "source": [
    "Use the SAS DLPy `convert_torchvision_model_weights()` function to convert Python model weights to weights that can be loaded by ModelZoo."
   ]
  },
  {
   "cell_type": "code",
   "execution_count": 5,
   "metadata": {},
   "outputs": [
    {
     "name": "stdout",
     "output_type": "stream",
     "text": [
      "NOTE: Pretrained weights loaded successfully.\n"
     ]
    },
    {
     "name": "stderr",
     "output_type": "stream",
     "text": [
      "C:\\Users\\userID\\AppData\\Local\\Continuum\\Miniconda3\\lib\\site-packages\\torch\\jit\\_script.py:890: UserWarning: `optimize` is deprecated and has no effect. Use `with torch.jit.optimized_execution() instead\n",
      "  warnings.warn(\n"
     ]
    },
    {
     "name": "stdout",
     "output_type": "stream",
     "text": [
      "NOTE: Pretrained weights saved successfully.\n"
     ]
    }
   ],
   "source": [
    "convert_torchvision_model_weights(\"resnet18\", \"path_to_local_directory/resnet18_cpp.pt\")"
   ]
  },
  {
   "cell_type": "code",
   "execution_count": 6,
   "metadata": {},
   "outputs": [],
   "source": [
    "model = MZModel(conn=s, model_type = \"torchNative\", model_name=\"resnet\", model_subtype=\"resnet18\", \n",
    "                num_classes=10, model_path = \"path_to_local_directory/resnet18_cpp.pt\")"
   ]
  },
  {
   "cell_type": "code",
   "execution_count": 7,
   "metadata": {},
   "outputs": [],
   "source": [
    "model.add_image_transformation(image_size='256 256')"
   ]
  },
  {
   "cell_type": "code",
   "execution_count": 8,
   "metadata": {},
   "outputs": [],
   "source": [
    "optimizer=Optimizer(seed=54321, \n",
    "                    algorithm=SGDSolver(lr=0.001, momentum=0.9),\n",
    "                    batch_size=128,\n",
    "                    max_epochs=10                   \n",
    "                    )"
   ]
  },
  {
   "cell_type": "code",
   "execution_count": 9,
   "metadata": {
    "scrolled": false
   },
   "outputs": [
    {
     "name": "stdout",
     "output_type": "stream",
     "text": [
      "NOTE: Using this GPU List on your-server.unx.company.com: [0 ].\n",
      "NOTE: dlx executable command : /r/ge.unx.sas.com/vol/vol610/u61/userID/tkext/com/laxnd/dlxexe -controlpid 44409 -session 25\n",
      "NOTE: Worker rank 0: your-server.unx.company.com, using up to 1 GPU devices.\n",
      "NOTE: Using your-server.unx.company.com: GPU 0 processes up to 128 records at a time.\n",
      "NOTE: Starting dlxexe process on worker your-server.unx.company.com, rank/threadID [0/0], pid= 2917 device= GPU:0\n",
      "NOTE: Learning Rate:   0.001 Momentum:     0.9 Weight Decay:       0 Dampening:       0 BatchSize: 128 Rank: 0 Device: 0 Loss: 138.673\n",
      "NOTE: The action completed successfully.\n"
     ]
    },
    {
     "data": {
      "text/html": [
       "<div class=\"cas-results-key\"><b>&#167; TrainIterHistory</b></div>\n",
       "<div class=\"cas-results-body\">\n",
       "<div>\n",
       "<style scoped>\n",
       "    .dataframe tbody tr th:only-of-type {\n",
       "        vertical-align: middle;\n",
       "    }\n",
       "\n",
       "    .dataframe tbody tr th {\n",
       "        vertical-align: top;\n",
       "    }\n",
       "\n",
       "    .dataframe thead th {\n",
       "        text-align: right;\n",
       "    }\n",
       "</style>\n",
       "<table border=\"1\" class=\"dataframe\">\n",
       "  <thead>\n",
       "    <tr style=\"text-align: right;\">\n",
       "      <th title=\"\"></th>\n",
       "      <th title=\"Epoch\">Epoch</th>\n",
       "      <th title=\"Loss\">Loss</th>\n",
       "      <th title=\"MCE\">MCE</th>\n",
       "    </tr>\n",
       "  </thead>\n",
       "  <tbody>\n",
       "    <tr>\n",
       "      <td>0</td>\n",
       "      <td>0.0</td>\n",
       "      <td>1574.979976</td>\n",
       "      <td>0.927536</td>\n",
       "    </tr>\n",
       "    <tr>\n",
       "      <td>1</td>\n",
       "      <td>1.0</td>\n",
       "      <td>1181.424218</td>\n",
       "      <td>0.864227</td>\n",
       "    </tr>\n",
       "    <tr>\n",
       "      <td>2</td>\n",
       "      <td>2.0</td>\n",
       "      <td>902.265424</td>\n",
       "      <td>0.776081</td>\n",
       "    </tr>\n",
       "    <tr>\n",
       "      <td>3</td>\n",
       "      <td>3.0</td>\n",
       "      <td>708.099181</td>\n",
       "      <td>0.625714</td>\n",
       "    </tr>\n",
       "    <tr>\n",
       "      <td>4</td>\n",
       "      <td>4.0</td>\n",
       "      <td>553.206810</td>\n",
       "      <td>0.496875</td>\n",
       "    </tr>\n",
       "    <tr>\n",
       "      <td>5</td>\n",
       "      <td>5.0</td>\n",
       "      <td>415.701191</td>\n",
       "      <td>0.347079</td>\n",
       "    </tr>\n",
       "    <tr>\n",
       "      <td>6</td>\n",
       "      <td>6.0</td>\n",
       "      <td>300.095903</td>\n",
       "      <td>0.153551</td>\n",
       "    </tr>\n",
       "    <tr>\n",
       "      <td>7</td>\n",
       "      <td>7.0</td>\n",
       "      <td>226.271760</td>\n",
       "      <td>0.060484</td>\n",
       "    </tr>\n",
       "    <tr>\n",
       "      <td>8</td>\n",
       "      <td>8.0</td>\n",
       "      <td>177.045486</td>\n",
       "      <td>0.052632</td>\n",
       "    </tr>\n",
       "    <tr>\n",
       "      <td>9</td>\n",
       "      <td>9.0</td>\n",
       "      <td>138.673359</td>\n",
       "      <td>0.028689</td>\n",
       "    </tr>\n",
       "  </tbody>\n",
       "</table>\n",
       "</div>\n",
       "</div>\n",
       "<div class=\"cas-results-key\"><hr/><b>&#167; TuningHistory</b></div>\n",
       "<div class=\"cas-results-body\">\n",
       "<div>\n",
       "<style scoped>\n",
       "    .dataframe tbody tr th:only-of-type {\n",
       "        vertical-align: middle;\n",
       "    }\n",
       "\n",
       "    .dataframe tbody tr th {\n",
       "        vertical-align: top;\n",
       "    }\n",
       "\n",
       "    .dataframe thead th {\n",
       "        text-align: right;\n",
       "    }\n",
       "</style>\n",
       "<table border=\"1\" class=\"dataframe\">\n",
       "  <thead>\n",
       "    <tr style=\"text-align: right;\">\n",
       "      <th title=\"\"></th>\n",
       "      <th title=\"Tuning Iteration\">Tuning Iteration</th>\n",
       "      <th title=\"Number of Evaluations\">Number of Evaluations</th>\n",
       "      <th title=\"Best Objective\">Best Objective</th>\n",
       "    </tr>\n",
       "  </thead>\n",
       "  <tbody>\n",
       "  </tbody>\n",
       "</table>\n",
       "</div>\n",
       "</div>\n",
       "<div class=\"cas-output-area\"></div>\n",
       "<p class=\"cas-results-performance\"><small><span class=\"cas-elapsed\">elapsed 26s</span> &#183; <span class=\"cas-user\">user 0.308s</span> &#183; <span class=\"cas-sys\">sys 0.307s</span> &#183; <span class=\"cas-memory\">mem 135MB</span></small></p>"
      ],
      "text/plain": [
       "[TrainIterHistory]\n",
       "\n",
       "    Epoch         Loss       MCE\n",
       " 0    0.0  1574.979976  0.927536\n",
       " 1    1.0  1181.424218  0.864227\n",
       " 2    2.0   902.265424  0.776081\n",
       " 3    3.0   708.099181  0.625714\n",
       " 4    4.0   553.206810  0.496875\n",
       " 5    5.0   415.701191  0.347079\n",
       " 6    6.0   300.095903  0.153551\n",
       " 7    7.0   226.271760  0.060484\n",
       " 8    8.0   177.045486  0.052632\n",
       " 9    9.0   138.673359  0.028689\n",
       "\n",
       "[TuningHistory]\n",
       "\n",
       " Empty SASDataFrame\n",
       " Columns: [Tuning Iteration, Number of Evaluations, Best Objective]\n",
       " Index: []\n",
       "\n",
       "+ Elapsed: 26s, user: 0.308s, sys: 0.307s, mem: 135mb"
      ]
     },
     "execution_count": 9,
     "metadata": {},
     "output_type": "execute_result"
    }
   ],
   "source": [
    "model.train(table=\"data\", inputs=\"_image_\", targets=\"labels\", gpu=[0], optimizer=optimizer, index_variable='labels')"
   ]
  },
  {
   "cell_type": "code",
   "execution_count": null,
   "metadata": {},
   "outputs": [],
   "source": []
  }
 ],
 "metadata": {
  "kernelspec": {
   "display_name": "Python 3 (ipykernel)",
   "language": "python",
   "name": "python3"
  },
  "language_info": {
   "codemirror_mode": {
    "name": "ipython",
    "version": 3
   },
   "file_extension": ".py",
   "mimetype": "text/x-python",
   "name": "python",
   "nbconvert_exporter": "python",
   "pygments_lexer": "ipython3",
   "version": "3.8.13"
  }
 },
 "nbformat": 4,
 "nbformat_minor": 2
}
