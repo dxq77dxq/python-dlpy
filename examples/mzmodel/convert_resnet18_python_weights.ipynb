{
 "cells": [
  {
   "cell_type": "markdown",
   "metadata": {},
   "source": [
    "This example shows how to convert pretrained weights from Pytorch to the format that can be loaded by C++ based program, and used by the DLmodelzoo action set as well as dlpy `mzmodel()`. Torchvision 0.8.2 is required to install on the client to run this function. Other versions of Pytorch may work as well, but those versions are not tested.\n",
    "The function `convert_torchvision_model_weights` takes the parameter `model_name`, where we specify the full name of the model. Currently supported models are:\n",
    "- resnet(resnet18, resnet34, resnet50, resnet101) \n",
    "- vgg(vgg11, vgg13, vgg16, vgg19)\n",
    "- shufflenet(shufflenet_v2_x0_5, shufflenet_v2_x1_0)\n",
    "- mobilenet(mobilenet_v2)"
   ]
  },
  {
   "cell_type": "code",
   "execution_count": 1,
   "metadata": {},
   "outputs": [],
   "source": [
    "import torch\n",
    "import torchvision"
   ]
  },
  {
   "cell_type": "code",
   "execution_count": 2,
   "metadata": {},
   "outputs": [],
   "source": [
    "def convert_torchvision_model_weights(model_name, cpp_model_path, python_model_path=None, imsize=(256, 256)):\n",
    "    '''\n",
    "    Converts a pretrained model in Python into model weights that can be loaded by C++ programs,\n",
    "    and used by the MZModel() class. To run this function, the DLPy package is not required.\n",
    "\n",
    "    Parameters\n",
    "    ----------\n",
    "    model_name : string\n",
    "        Specifies the name of the model.\n",
    "    python_model_path : string\n",
    "        Specifies the directory that contains the Python based model weights.\n",
    "    cpp_model_path : string\n",
    "        Specifies the derectory to store the C++ based model weights.\n",
    "    imsize : tuple\n",
    "        Specifies the dimension of the image passed to the trace function.\n",
    "    '''\n",
    "    try:\n",
    "        temp = getattr(torchvision.models, model_name)\n",
    "        model = temp(pretrained=True)\n",
    "\n",
    "        if python_model_path:\n",
    "            python_weights = torch.load(python_model_path)\n",
    "            model.load_state_dict(python_weights)\n",
    "    except:\n",
    "        raise Exception('Something is wrong while loading the pretrained weights.')\n",
    "\n",
    "    print('NOTE: Pretrained weights loaded successfully.')\n",
    "\n",
    "    class wrapped_model(torch.nn.Module):\n",
    "        def __init__(self)->None:\n",
    "            super().__init__()\n",
    "            self.model = model\n",
    "\n",
    "        def forward(self, x):\n",
    "            return self.model(x)\n",
    "\n",
    "    try:\n",
    "        model_ = wrapped_model()\n",
    "        img = torch.rand([1, 3, imsize[0], imsize[1]]).float()\n",
    "        cpp_model = torch.jit.script(model_, img)\n",
    "        cpp_model.save(cpp_model_path)\n",
    "    except:\n",
    "        raise Exception('Something is wrong while saving the pretrained weights.')\n",
    "\n",
    "    print('NOTE: Pretrained weights saved successfully.')"
   ]
  },
  {
   "cell_type": "code",
   "execution_count": 3,
   "metadata": {},
   "outputs": [
    {
     "name": "stdout",
     "output_type": "stream",
     "text": [
      "NOTE: Pretrained weights loaded successfully.\n",
      "NOTE: Pretrained weights saved successfully.\n"
     ]
    }
   ],
   "source": [
    "convert_torchvision_model_weights(\"resnet18\", \"/path/to/resnet18_cpp.pt\")"
   ]
  },
  {
   "cell_type": "code",
   "execution_count": 4,
   "metadata": {},
   "outputs": [],
   "source": [
    "import swat as sw\n",
    "from dlpy.mzmodel import *\n",
    "from dlpy.utils import *"
   ]
  },
  {
   "cell_type": "code",
   "execution_count": 5,
   "metadata": {
    "tags": []
   },
   "outputs": [],
   "source": [
    "# Connect to an existing CAS server\n",
    "s = sw.CAS('your-server.unx.company.com',2999)"
   ]
  },
  {
   "cell_type": "code",
   "execution_count": 6,
   "metadata": {},
   "outputs": [
    {
     "name": "stdout",
     "output_type": "stream",
     "text": [
      "NOTE: Cloud Analytic Services added the caslib 'dnfs'.\n"
     ]
    },
    {
     "data": {
      "text/html": [
       "<div class=\"cas-results-key\"><b>&#167; CASLibInfo</b></div>\n",
       "<div class=\"cas-results-body\">\n",
       "<div>\n",
       "<style scoped>\n",
       "    .dataframe tbody tr th:only-of-type {\n",
       "        vertical-align: middle;\n",
       "    }\n",
       "\n",
       "    .dataframe tbody tr th {\n",
       "        vertical-align: top;\n",
       "    }\n",
       "\n",
       "    .dataframe thead th {\n",
       "        text-align: right;\n",
       "    }\n",
       "</style>\n",
       "<table border=\"1\" class=\"dataframe\">\n",
       "  <thead>\n",
       "    <tr style=\"text-align: right;\">\n",
       "      <th title=\"\"></th>\n",
       "      <th title=\"Name\">Name</th>\n",
       "      <th title=\"Type\">Type</th>\n",
       "      <th title=\"Description\">Description</th>\n",
       "      <th title=\"Path\">Path</th>\n",
       "      <th title=\"Definition\">Definition</th>\n",
       "      <th title=\"Subdirs\">Subdirs</th>\n",
       "      <th title=\"Local\">Local</th>\n",
       "      <th title=\"Active\">Active</th>\n",
       "      <th title=\"Personal\">Personal</th>\n",
       "      <th title=\"Hidden\">Hidden</th>\n",
       "      <th title=\"Transient\">Transient</th>\n",
       "    </tr>\n",
       "  </thead>\n",
       "  <tbody>\n",
       "    <tr>\n",
       "      <td>0</td>\n",
       "      <td>dnfs</td>\n",
       "      <td>PATH</td>\n",
       "      <td></td>\n",
       "      <td>/example/path/</td>\n",
       "      <td></td>\n",
       "      <td>1.0</td>\n",
       "      <td>1.0</td>\n",
       "      <td>0.0</td>\n",
       "      <td>0.0</td>\n",
       "      <td>0.0</td>\n",
       "      <td>0.0</td>\n",
       "    </tr>\n",
       "  </tbody>\n",
       "</table>\n",
       "</div>\n",
       "</div>\n",
       "<div class=\"cas-output-area\"></div>\n",
       "<p class=\"cas-results-performance\"><small><span class=\"cas-elapsed\">elapsed 0.00447s</span> &#183; <span class=\"cas-user\">user 0.0023s</span> &#183; <span class=\"cas-sys\">sys 0.00145s</span> &#183; <span class=\"cas-memory\">mem 0.722MB</span></small></p>"
      ],
      "text/plain": [
       "[CASLibInfo]\n",
       "\n",
       "    Name  Type Description               Path Definition  Subdirs  Local  Active  Personal  Hidden  Transient\n",
       " 0  dnfs  PATH              /example/path/                 1.0    1.0     0.0       0.0     0.0        0.0\n",
       "\n",
       "+ Elapsed: 0.00447s, user: 0.0023s, sys: 0.00145s, mem: 0.722mb"
      ]
     },
     "execution_count": 6,
     "metadata": {},
     "output_type": "execute_result"
    }
   ],
   "source": [
    "s.table.addcaslib(activeonadd=False,\n",
    "                  datasource={'srctype':'path'},\n",
    "                  name='dnfs',\n",
    "                  path='/example/path',\n",
    "                  subdirectories=True)"
   ]
  },
  {
   "cell_type": "code",
   "execution_count": 7,
   "metadata": {
    "tags": []
   },
   "outputs": [
    {
     "name": "stdout",
     "output_type": "stream",
     "text": [
      "NOTE: Cloud Analytic Services made the file data/cifar10_small.sashdat available as table DATA in caslib CASUSER(xingdu).\n"
     ]
    },
    {
     "data": {
      "text/html": [
       "<div class=\"cas-results-key\"><b>&#167; caslib</b></div>\n",
       "<div class=\"cas-results-body\">\n",
       "<div>CASUSER(xingdu)</div>\n",
       "</div>\n",
       "<div class=\"cas-results-key\"><hr/><b>&#167; tableName</b></div>\n",
       "<div class=\"cas-results-body\">\n",
       "<div>DATA</div>\n",
       "</div>\n",
       "<div class=\"cas-results-key\"><hr/><b>&#167; casTable</b></div>\n",
       "<div class=\"cas-results-body\">\n",
       "<div>CASTable('DATA', caslib='CASUSER(xingdu)')</div>\n",
       "</div>\n",
       "<div class=\"cas-output-area\"></div>\n",
       "<p class=\"cas-results-performance\"><small><span class=\"cas-elapsed\">elapsed 0.00769s</span> &#183; <span class=\"cas-user\">user 0.00598s</span> &#183; <span class=\"cas-memory\">mem 0.854MB</span></small></p>"
      ],
      "text/plain": [
       "[caslib]\n",
       "\n",
       " 'CASUSER(xingdu)'\n",
       "\n",
       "[tableName]\n",
       "\n",
       " 'DATA'\n",
       "\n",
       "[casTable]\n",
       "\n",
       " CASTable('DATA', caslib='CASUSER(xingdu)')\n",
       "\n",
       "+ Elapsed: 0.00769s, user: 0.00598s, mem: 0.854mb"
      ]
     },
     "execution_count": 7,
     "metadata": {},
     "output_type": "execute_result"
    }
   ],
   "source": [
    "s.table.loadTable(caslib='dnfs', path='data/cifar10_small.sashdat', \n",
    "    casout = dict(name = 'data', blocksize = '1', replace = True))"
   ]
  },
  {
   "cell_type": "code",
   "execution_count": 8,
   "metadata": {},
   "outputs": [],
   "source": [
    "model = MZModel(conn=s, model_type = \"torchNative\", model_name=\"resnet\", model_subtype=\"resnet18\", \n",
    "                num_classes=10, model_path = \"/path/to/resnet18_cpp.pt\")"
   ]
  },
  {
   "cell_type": "code",
   "execution_count": 9,
   "metadata": {},
   "outputs": [],
   "source": [
    "model.add_image_transformation(image_size='256 256')"
   ]
  },
  {
   "cell_type": "code",
   "execution_count": 10,
   "metadata": {},
   "outputs": [],
   "source": [
    "optimizer=Optimizer(seed=54321, \n",
    "                    algorithm=SGDSolver(lr=0.001, momentum=0.9),\n",
    "                    batch_size=128,\n",
    "                    max_epochs=10                   \n",
    "                    )"
   ]
  },
  {
   "cell_type": "code",
   "execution_count": 11,
   "metadata": {
    "scrolled": false
   },
   "outputs": [
    {
     "name": "stdout",
     "output_type": "stream",
     "text": [
      "NOTE: Using this GPU List on your-server.unx.company.com: [0 ].\n",
      "NOTE: Worker rank 0: your-server.unx.company.com, using up to 1 GPU devices.\n",
      "NOTE: Using your-server.unx.company.com: GPU 0 processes up to 128 records at a time.\n",
      "NOTE: Starting dlxexe process on your-server.unx.company.com, rank/threadID [0/0], pid= 2124 device= GPU:0\n",
      "NOTE: Learning Rate:   0.001 Momentum:     0.9 Weight Decay:       0 Dampening:       0 BatchSize: 128 Rank: 0 Device: 0 Loss: 135.924\n",
      "NOTE: The action completed successfully.\n"
     ]
    },
    {
     "data": {
      "text/html": [
       "<div class=\"cas-results-key\"><b>&#167; TrainIterHistory</b></div>\n",
       "<div class=\"cas-results-body\">\n",
       "<div>\n",
       "<style scoped>\n",
       "    .dataframe tbody tr th:only-of-type {\n",
       "        vertical-align: middle;\n",
       "    }\n",
       "\n",
       "    .dataframe tbody tr th {\n",
       "        vertical-align: top;\n",
       "    }\n",
       "\n",
       "    .dataframe thead th {\n",
       "        text-align: right;\n",
       "    }\n",
       "</style>\n",
       "<table border=\"1\" class=\"dataframe\">\n",
       "  <thead>\n",
       "    <tr style=\"text-align: right;\">\n",
       "      <th title=\"\"></th>\n",
       "      <th title=\"Epoch\">Epoch</th>\n",
       "      <th title=\"Loss\">Loss</th>\n",
       "      <th title=\"MCE\">MCE</th>\n",
       "    </tr>\n",
       "  </thead>\n",
       "  <tbody>\n",
       "    <tr>\n",
       "      <td>0</td>\n",
       "      <td>0.0</td>\n",
       "      <td>1575.153782</td>\n",
       "      <td>0.927536</td>\n",
       "    </tr>\n",
       "    <tr>\n",
       "      <td>1</td>\n",
       "      <td>1.0</td>\n",
       "      <td>1180.905790</td>\n",
       "      <td>0.865566</td>\n",
       "    </tr>\n",
       "    <tr>\n",
       "      <td>2</td>\n",
       "      <td>2.0</td>\n",
       "      <td>898.110307</td>\n",
       "      <td>0.782278</td>\n",
       "    </tr>\n",
       "    <tr>\n",
       "      <td>3</td>\n",
       "      <td>3.0</td>\n",
       "      <td>709.094187</td>\n",
       "      <td>0.621776</td>\n",
       "    </tr>\n",
       "    <tr>\n",
       "      <td>4</td>\n",
       "      <td>4.0</td>\n",
       "      <td>548.199011</td>\n",
       "      <td>0.489796</td>\n",
       "    </tr>\n",
       "    <tr>\n",
       "      <td>5</td>\n",
       "      <td>5.0</td>\n",
       "      <td>403.487586</td>\n",
       "      <td>0.324042</td>\n",
       "    </tr>\n",
       "    <tr>\n",
       "      <td>6</td>\n",
       "      <td>6.0</td>\n",
       "      <td>291.951439</td>\n",
       "      <td>0.135659</td>\n",
       "    </tr>\n",
       "    <tr>\n",
       "      <td>7</td>\n",
       "      <td>7.0</td>\n",
       "      <td>220.007848</td>\n",
       "      <td>0.064386</td>\n",
       "    </tr>\n",
       "    <tr>\n",
       "      <td>8</td>\n",
       "      <td>8.0</td>\n",
       "      <td>170.034453</td>\n",
       "      <td>0.040733</td>\n",
       "    </tr>\n",
       "    <tr>\n",
       "      <td>9</td>\n",
       "      <td>9.0</td>\n",
       "      <td>135.924037</td>\n",
       "      <td>0.024641</td>\n",
       "    </tr>\n",
       "  </tbody>\n",
       "</table>\n",
       "</div>\n",
       "</div>\n",
       "<div class=\"cas-results-key\"><hr/><b>&#167; TuningHistory</b></div>\n",
       "<div class=\"cas-results-body\">\n",
       "<div>\n",
       "<style scoped>\n",
       "    .dataframe tbody tr th:only-of-type {\n",
       "        vertical-align: middle;\n",
       "    }\n",
       "\n",
       "    .dataframe tbody tr th {\n",
       "        vertical-align: top;\n",
       "    }\n",
       "\n",
       "    .dataframe thead th {\n",
       "        text-align: right;\n",
       "    }\n",
       "</style>\n",
       "<table border=\"1\" class=\"dataframe\">\n",
       "  <thead>\n",
       "    <tr style=\"text-align: right;\">\n",
       "      <th title=\"\"></th>\n",
       "      <th title=\"Tuning Iteration\">Tuning Iteration</th>\n",
       "      <th title=\"Number of Evaluations\">Number of Evaluations</th>\n",
       "      <th title=\"Best Objective\">Best Objective</th>\n",
       "    </tr>\n",
       "  </thead>\n",
       "  <tbody>\n",
       "  </tbody>\n",
       "</table>\n",
       "</div>\n",
       "</div>\n",
       "<div class=\"cas-output-area\"></div>\n",
       "<p class=\"cas-results-performance\"><small><span class=\"cas-elapsed\">elapsed 25.8s</span> &#183; <span class=\"cas-user\">user 0.302s</span> &#183; <span class=\"cas-sys\">sys 0.279s</span> &#183; <span class=\"cas-memory\">mem 135MB</span></small></p>"
      ],
      "text/plain": [
       "[TrainIterHistory]\n",
       "\n",
       "    Epoch         Loss       MCE\n",
       " 0    0.0  1575.153782  0.927536\n",
       " 1    1.0  1180.905790  0.865566\n",
       " 2    2.0   898.110307  0.782278\n",
       " 3    3.0   709.094187  0.621776\n",
       " 4    4.0   548.199011  0.489796\n",
       " 5    5.0   403.487586  0.324042\n",
       " 6    6.0   291.951439  0.135659\n",
       " 7    7.0   220.007848  0.064386\n",
       " 8    8.0   170.034453  0.040733\n",
       " 9    9.0   135.924037  0.024641\n",
       "\n",
       "[TuningHistory]\n",
       "\n",
       " Empty SASDataFrame\n",
       " Columns: [Tuning Iteration, Number of Evaluations, Best Objective]\n",
       " Index: []\n",
       "\n",
       "+ Elapsed: 25.8s, user: 0.302s, sys: 0.279s, mem: 135mb"
      ]
     },
     "execution_count": 11,
     "metadata": {},
     "output_type": "execute_result"
    }
   ],
   "source": [
    "model.train(table=\"data\", inputs=\"_image_\", targets=\"labels\", gpu=[0], optimizer=optimizer, index_variable='labels')"
   ]
  },
  {
   "cell_type": "code",
   "execution_count": null,
   "metadata": {},
   "outputs": [],
   "source": []
  }
 ],
 "metadata": {
  "kernelspec": {
   "display_name": "Python 3 (ipykernel)",
   "language": "python",
   "name": "python3"
  },
  "language_info": {
   "codemirror_mode": {
    "name": "ipython",
    "version": 3
   },
   "file_extension": ".py",
   "mimetype": "text/x-python",
   "name": "python",
   "nbconvert_exporter": "python",
   "pygments_lexer": "ipython3",
   "version": "3.8.13"
  }
 },
 "nbformat": 4,
 "nbformat_minor": 2
}
