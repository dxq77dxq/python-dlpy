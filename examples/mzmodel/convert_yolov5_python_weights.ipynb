{
 "cells": [
  {
   "cell_type": "markdown",
   "metadata": {},
   "source": [
    "This example shows how to convert yolov5 pretrained weights from Pytorch to the format that can be loaded by C++ based program, and used by the DLmodelzoo action set as well as dlpy `mzmodel()`. Pytorch 1.7.1 is required to install on the client to run this function. Other versions of Pytorch may work as well, but those versions are not tested. "
   ]
  },
  {
   "cell_type": "code",
   "execution_count": 1,
   "metadata": {},
   "outputs": [],
   "source": [
    "import torch\n",
    "import sys"
   ]
  },
  {
   "cell_type": "code",
   "execution_count": 2,
   "metadata": {},
   "outputs": [],
   "source": [
    "def convert_yolov5_model_weights(cpp_model_path, python_model_path, imsize=(640, 480)):\n",
    "    '''\n",
    "    Converts a pretrained model in Python into model weights that can be loaded by C++ programs,\n",
    "    and used by the MZModel() class. To run this function, the DLPy package is not required.\n",
    "\n",
    "    Parameters\n",
    "    ----------\n",
    "    python_model_path : string\n",
    "        Specifies the directory that contains the Python based model weights.\n",
    "    cpp_model_path : string\n",
    "        Specifies the derectory to store the C++ based model weights.\n",
    "    imsize : tuple\n",
    "        Specifies the dimension of the image passed to the trace function.\n",
    "    '''\n",
    "    try:\n",
    "        device = torch.device('cpu')\n",
    "        ckpt = torch.load(python_model_path, map_location=device)\n",
    "    except:\n",
    "        raise Exception('Something is wrong while loading the pretrained weights.')\n",
    "\n",
    "    print('NOTE: Pretrained weights loaded successfully.')\n",
    "\n",
    "    model = []\n",
    "    model.append(ckpt['ema' if ckpt.get('ema') else 'model'].float().eval())\n",
    "    model = model[-1]\n",
    "\n",
    "    imsize_md = max(imsize[0], imsize[1])\n",
    "    if device.type != 'cpu':\n",
    "        model(torch.zeros(1, 3, imsize_md, imsize_md).to(device).type_as(next(model.parameters())))\n",
    "\n",
    "    img = torch.rand([1, 3, imsize[0], imsize[1]]).to(device).float()\n",
    "\n",
    "    try:\n",
    "        pred = model(img, augment=False)[0]\n",
    "        cpp_model = torch.jit.trace(model, img)\n",
    "        cpp_model.save(cpp_model_path)\n",
    "    except:\n",
    "        raise Exception('Something is wrong while saving the pretrained weights.')\n",
    "\n",
    "    print('NOTE: Pretrained weights saved successfully.')"
   ]
  },
  {
   "cell_type": "markdown",
   "metadata": {},
   "source": [
    "Variable `yolov5_src_dir` contains the top level directory for the yolov5 source code by ultralytics, v5.0. Other versions of the model from the same repository of ultralytics may not be compatible. The requirement comes from the fact that the python model is saved in a format that depends on the source code directory. To download the source code, you can use the following command:\n",
    "1. git clone https://github.com/ultralytics/yolov5.git\n",
    "2. cd yolov5\n",
    "3. git checkout v5.0"
   ]
  },
  {
   "cell_type": "code",
   "execution_count": 3,
   "metadata": {},
   "outputs": [],
   "source": [
    "yolov5_src_dir = \"/path/to/yolov5\"    \n",
    "sys.path.insert (0, yolov5_src_dir)"
   ]
  },
  {
   "cell_type": "markdown",
   "metadata": {},
   "source": [
    "Variable `python_model_path` contains the file name for the model weights. The weights need to be compatible with DLmodelzoo yolov5 models, i.e., the yolov5 models by ultralytics, v5.0. You can download the weights from the following links:    \n",
    "- https://github.com/ultralytics/yolov5/releases/download/v5.0/yolov5m.pt\n",
    "- https://github.com/ultralytics/yolov5/releases/download/v5.0/yolov5s.pt\n",
    "- https://github.com/ultralytics/yolov5/releases/download/v5.0/yolov5l.pt\n",
    "- https://github.com/ultralytics/yolov5/releases/download/v5.0/yolov5x.pt"
   ]
  },
  {
   "cell_type": "code",
   "execution_count": 4,
   "metadata": {},
   "outputs": [],
   "source": [
    "python_model_path = \"/path/to/yolov5s.pt\"   \n",
    "cpp_model_path = \"/path/to/yolov5s_cpp.pt\"  "
   ]
  },
  {
   "cell_type": "code",
   "execution_count": 5,
   "metadata": {},
   "outputs": [
    {
     "name": "stdout",
     "output_type": "stream",
     "text": [
      "NOTE: Pretrained weights loaded successfully.\n",
      "NOTE: Pretrained weights saved successfully.\n"
     ]
    }
   ],
   "source": [
    "convert_yolov5_model_weights(cpp_model_path, python_model_path)"
   ]
  },
  {
   "cell_type": "code",
   "execution_count": 6,
   "metadata": {},
   "outputs": [],
   "source": [
    "import swat as sw\n",
    "from dlpy.mzmodel import *\n",
    "from dlpy.utils import *"
   ]
  },
  {
   "cell_type": "code",
   "execution_count": 7,
   "metadata": {
    "tags": []
   },
   "outputs": [],
   "source": [
    "# Connect to an existing CAS server\n",
    "s = sw.CAS('your-server.unx.company.com',2999)"
   ]
  },
  {
   "cell_type": "code",
   "execution_count": 8,
   "metadata": {},
   "outputs": [
    {
     "name": "stdout",
     "output_type": "stream",
     "text": [
      "NOTE: Cloud Analytic Services added the caslib 'cas_shlong'.\n"
     ]
    },
    {
     "data": {
      "text/html": [
       "<div class=\"cas-results-key\"><b>&#167; CASLibInfo</b></div>\n",
       "<div class=\"cas-results-body\">\n",
       "<div>\n",
       "<style scoped>\n",
       "    .dataframe tbody tr th:only-of-type {\n",
       "        vertical-align: middle;\n",
       "    }\n",
       "\n",
       "    .dataframe tbody tr th {\n",
       "        vertical-align: top;\n",
       "    }\n",
       "\n",
       "    .dataframe thead th {\n",
       "        text-align: right;\n",
       "    }\n",
       "</style>\n",
       "<table border=\"1\" class=\"dataframe\">\n",
       "  <thead>\n",
       "    <tr style=\"text-align: right;\">\n",
       "      <th title=\"\"></th>\n",
       "      <th title=\"Name\">Name</th>\n",
       "      <th title=\"Type\">Type</th>\n",
       "      <th title=\"Description\">Description</th>\n",
       "      <th title=\"Path\">Path</th>\n",
       "      <th title=\"Definition\">Definition</th>\n",
       "      <th title=\"Local\">Local</th>\n",
       "      <th title=\"Active\">Active</th>\n",
       "      <th title=\"Personal\">Personal</th>\n",
       "      <th title=\"Hidden\">Hidden</th>\n",
       "      <th title=\"Transient\">Transient</th>\n",
       "    </tr>\n",
       "  </thead>\n",
       "  <tbody>\n",
       "    <tr>\n",
       "      <td>0</td>\n",
       "      <td>cas_shlong</td>\n",
       "      <td>PATH</td>\n",
       "      <td></td>\n",
       "      <td>/example/path/</td>\n",
       "      <td></td>\n",
       "      <td>1.0</td>\n",
       "      <td>0.0</td>\n",
       "      <td>0.0</td>\n",
       "      <td>0.0</td>\n",
       "      <td>0.0</td>\n",
       "    </tr>\n",
       "  </tbody>\n",
       "</table>\n",
       "</div>\n",
       "</div>\n",
       "<div class=\"cas-output-area\"></div>\n",
       "<p class=\"cas-results-performance\"><small><span class=\"cas-elapsed\">elapsed 0.00471s</span> &#183; <span class=\"cas-user\">user 0.00465s</span> &#183; <span class=\"cas-sys\">sys 2e-06s</span> &#183; <span class=\"cas-memory\">mem 0.722MB</span></small></p>"
      ],
      "text/plain": [
       "[CASLibInfo]\n",
       "\n",
       "          Name  Type Description                  Path Definition  Subdirs  Local  Active  Personal  Hidden  Transient\n",
       " 0  cas_shlong  PATH              /example/path/                 1.0    1.0     0.0       0.0     0.0        0.0\n",
       "\n",
       "+ Elapsed: 0.00471s, user: 0.00465s, sys: 2e-06s, mem: 0.722mb"
      ]
     },
     "execution_count": 8,
     "metadata": {},
     "output_type": "execute_result"
    }
   ],
   "source": [
    "s.table.addcaslib(activeonadd=False,\n",
    "                  datasource={'srctype':'path'},\n",
    "                  name='cas_shlong',\n",
    "                  path='/example/path',\n",
    "                  subdirectories=True)"
   ]
  },
  {
   "cell_type": "code",
   "execution_count": 10,
   "metadata": {},
   "outputs": [
    {
     "name": "stdout",
     "output_type": "stream",
     "text": [
      "NOTE: 'cas_shlong' is now the active caslib.\n"
     ]
    },
    {
     "data": {
      "text/html": [
       "<div class=\"cas-output-area\"></div>\n",
       "<p class=\"cas-results-performance\"><small><span class=\"cas-elapsed\">elapsed 0.00201s</span> &#183; <span class=\"cas-user\">user 0.00191s</span> &#183; <span class=\"cas-sys\">sys 4.5e-05s</span> &#183; <span class=\"cas-memory\">mem 0.273MB</span></small></p>"
      ],
      "text/plain": [
       "+ Elapsed: 0.00201s, user: 0.00191s, sys: 4.5e-05s, mem: 0.273mb"
      ]
     },
     "execution_count": 10,
     "metadata": {},
     "output_type": "execute_result"
    }
   ],
   "source": [
    "s.setsessopt(caslib='cas_shlong')"
   ]
  },
  {
   "cell_type": "code",
   "execution_count": 11,
   "metadata": {
    "tags": []
   },
   "outputs": [
    {
     "name": "stdout",
     "output_type": "stream",
     "text": [
      "NOTE: Cloud Analytic Services made the file coco128/obj_table.txt available as table OBJDET_TRAIN128 in caslib cas_shlong.\n"
     ]
    },
    {
     "data": {
      "text/html": [
       "<div class=\"cas-results-key\"><b>&#167; caslib</b></div>\n",
       "<div class=\"cas-results-body\">\n",
       "<div>cas_shlong</div>\n",
       "</div>\n",
       "<div class=\"cas-results-key\"><hr/><b>&#167; tableName</b></div>\n",
       "<div class=\"cas-results-body\">\n",
       "<div>OBJDET_TRAIN128</div>\n",
       "</div>\n",
       "<div class=\"cas-results-key\"><hr/><b>&#167; casTable</b></div>\n",
       "<div class=\"cas-results-body\">\n",
       "<div>CASTable('OBJDET_TRAIN128', caslib='cas_shlong')</div>\n",
       "</div>\n",
       "<div class=\"cas-output-area\"></div>\n",
       "<p class=\"cas-results-performance\"><small><span class=\"cas-elapsed\">elapsed 0.199s</span> &#183; <span class=\"cas-user\">user 0.239s</span> &#183; <span class=\"cas-sys\">sys 0.12s</span> &#183; <span class=\"cas-memory\">mem 82.9MB</span></small></p>"
      ],
      "text/plain": [
       "[caslib]\n",
       "\n",
       " 'cas_shlong'\n",
       "\n",
       "[tableName]\n",
       "\n",
       " 'OBJDET_TRAIN128'\n",
       "\n",
       "[casTable]\n",
       "\n",
       " CASTable('OBJDET_TRAIN128', caslib='cas_shlong')\n",
       "\n",
       "+ Elapsed: 0.199s, user: 0.239s, sys: 0.12s, mem: 82.9mb"
      ]
     },
     "execution_count": 11,
     "metadata": {},
     "output_type": "execute_result"
    }
   ],
   "source": [
    "s.table.loadTable(\n",
    "        caslib=\"cas_shlong\",\n",
    "        path=\"coco128/obj_table.txt\",\n",
    "        casout=dict(name=\"objdet_train128\", blocksize=\"1\", replace=True),\n",
    "    )  "
   ]
  },
  {
   "cell_type": "code",
   "execution_count": 12,
   "metadata": {},
   "outputs": [],
   "source": [
    "model = MZModel(conn=s, model_type=\"torchNative\", model_name=\"yolov5\", model_subtype=\"small\", num_classes=80, \n",
    "                dataset_type= \"OBJDETECT\", anchors=\"10 13 16 30 33 23 30 61 62 45 59 119 116 90 156 198 373 326\",\n",
    "                model_path=\"/path/to/yolov5s_cpp.pt\")"
   ]
  },
  {
   "cell_type": "code",
   "execution_count": 13,
   "metadata": {},
   "outputs": [],
   "source": [
    "model.add_image_transformation(image_size='640', image_resize_type=\"RETAIN_ASPECTRATIO\")"
   ]
  },
  {
   "cell_type": "code",
   "execution_count": 14,
   "metadata": {},
   "outputs": [],
   "source": [
    "optimizer=Optimizer(seed=54321, \n",
    "                    algorithm=SGDSolver(lr=0.001, momentum=0.9),\n",
    "                    batch_size=4,\n",
    "                    max_epochs=5                   \n",
    "                    )"
   ]
  },
  {
   "cell_type": "code",
   "execution_count": 15,
   "metadata": {
    "scrolled": false
   },
   "outputs": [
    {
     "name": "stdout",
     "output_type": "stream",
     "text": [
      "NOTE: No target map from nominal values to numeric values is found.\n",
      "NOTE: Using this GPU List on dl2065.clstr.rnd.sas.com: [0 ].\n",
      "NOTE: dlx executable command : /r/ge.unx.sas.com/vol/vol610/u61/xingdu/pp/two_process/tkext/com/laxnd/dlxexe -controlpid 93834 -session 1\n",
      "NOTE: Worker rank 0: dl2065.clstr.rnd.sas.com, using up to 1 GPU devices.\n",
      "NOTE: Using dl2065.clstr.rnd.sas.com: GPU 0 processes up to 4 records at a time.\n",
      "NOTE: Starting dlxexe process on worker dl2065.clstr.rnd.sas.com, rank/threadID [0/0], pid= 70489 device= GPU:0\n",
      "NOTE: Learning Rate:   0.001 Momentum:     0.9 Weight Decay:       0 Dampening:       0 BatchSize: 4 Rank: 0 Device: 0 Loss: 8.43585\n",
      "NOTE: The action completed successfully.\n"
     ]
    },
    {
     "data": {
      "text/html": [
       "<div class=\"cas-results-key\"><b>&#167; TrainIterHistory</b></div>\n",
       "<div class=\"cas-results-body\">\n",
       "<div>\n",
       "<style scoped>\n",
       "    .dataframe tbody tr th:only-of-type {\n",
       "        vertical-align: middle;\n",
       "    }\n",
       "\n",
       "    .dataframe tbody tr th {\n",
       "        vertical-align: top;\n",
       "    }\n",
       "\n",
       "    .dataframe thead th {\n",
       "        text-align: right;\n",
       "    }\n",
       "</style>\n",
       "<table border=\"1\" class=\"dataframe\">\n",
       "  <thead>\n",
       "    <tr style=\"text-align: right;\">\n",
       "      <th title=\"\"></th>\n",
       "      <th title=\"Epoch\">Epoch</th>\n",
       "      <th title=\"Loss\">Loss</th>\n",
       "      <th title=\"Box Loss\">Box Loss</th>\n",
       "      <th title=\"Object Loss\">Object Loss</th>\n",
       "      <th title=\"Class Loss\">Class Loss</th>\n",
       "      <th title=\"Batch Loss\">Batch Loss</th>\n",
       "    </tr>\n",
       "  </thead>\n",
       "  <tbody>\n",
       "    <tr>\n",
       "      <td>0</td>\n",
       "      <td>0.0</td>\n",
       "      <td>15.510421</td>\n",
       "      <td>5.556897</td>\n",
       "      <td>5.780026</td>\n",
       "      <td>4.173499</td>\n",
       "      <td>15.510420</td>\n",
       "    </tr>\n",
       "    <tr>\n",
       "      <td>1</td>\n",
       "      <td>1.0</td>\n",
       "      <td>11.813688</td>\n",
       "      <td>4.721935</td>\n",
       "      <td>4.960478</td>\n",
       "      <td>2.131276</td>\n",
       "      <td>11.813688</td>\n",
       "    </tr>\n",
       "    <tr>\n",
       "      <td>2</td>\n",
       "      <td>2.0</td>\n",
       "      <td>10.088338</td>\n",
       "      <td>4.238508</td>\n",
       "      <td>4.433109</td>\n",
       "      <td>1.416722</td>\n",
       "      <td>10.088336</td>\n",
       "    </tr>\n",
       "    <tr>\n",
       "      <td>3</td>\n",
       "      <td>3.0</td>\n",
       "      <td>9.072514</td>\n",
       "      <td>3.917948</td>\n",
       "      <td>4.050517</td>\n",
       "      <td>1.104049</td>\n",
       "      <td>9.072515</td>\n",
       "    </tr>\n",
       "    <tr>\n",
       "      <td>4</td>\n",
       "      <td>4.0</td>\n",
       "      <td>8.435854</td>\n",
       "      <td>3.781237</td>\n",
       "      <td>3.724879</td>\n",
       "      <td>0.929738</td>\n",
       "      <td>8.435853</td>\n",
       "    </tr>\n",
       "  </tbody>\n",
       "</table>\n",
       "</div>\n",
       "</div>\n",
       "<div class=\"cas-results-key\"><hr/><b>&#167; TuningHistory</b></div>\n",
       "<div class=\"cas-results-body\">\n",
       "<div>\n",
       "<style scoped>\n",
       "    .dataframe tbody tr th:only-of-type {\n",
       "        vertical-align: middle;\n",
       "    }\n",
       "\n",
       "    .dataframe tbody tr th {\n",
       "        vertical-align: top;\n",
       "    }\n",
       "\n",
       "    .dataframe thead th {\n",
       "        text-align: right;\n",
       "    }\n",
       "</style>\n",
       "<table border=\"1\" class=\"dataframe\">\n",
       "  <thead>\n",
       "    <tr style=\"text-align: right;\">\n",
       "      <th title=\"\"></th>\n",
       "      <th title=\"Tuning Iteration\">Tuning Iteration</th>\n",
       "      <th title=\"Number of Evaluations\">Number of Evaluations</th>\n",
       "      <th title=\"Best Objective\">Best Objective</th>\n",
       "    </tr>\n",
       "  </thead>\n",
       "  <tbody>\n",
       "  </tbody>\n",
       "</table>\n",
       "</div>\n",
       "</div>\n",
       "<div class=\"cas-output-area\"></div>\n",
       "<p class=\"cas-results-performance\"><small><span class=\"cas-elapsed\">elapsed 19.3s</span> &#183; <span class=\"cas-user\">user 0.114s</span> &#183; <span class=\"cas-sys\">sys 0.144s</span> &#183; <span class=\"cas-memory\">mem 91.1MB</span></small></p>"
      ],
      "text/plain": [
       "[TrainIterHistory]\n",
       "\n",
       "    Epoch       Loss  Box Loss  Object Loss  Class Loss  Batch Loss\n",
       " 0    0.0  15.510421  5.556897     5.780026    4.173499   15.510420\n",
       " 1    1.0  11.813688  4.721935     4.960478    2.131276   11.813688\n",
       " 2    2.0  10.088338  4.238508     4.433109    1.416722   10.088336\n",
       " 3    3.0   9.072514  3.917948     4.050517    1.104049    9.072515\n",
       " 4    4.0   8.435854  3.781237     3.724879    0.929738    8.435853\n",
       "\n",
       "[TuningHistory]\n",
       "\n",
       " Empty SASDataFrame\n",
       " Columns: [Tuning Iteration, Number of Evaluations, Best Objective]\n",
       " Index: []\n",
       "\n",
       "+ Elapsed: 19.3s, user: 0.114s, sys: 0.144s, mem: 91.1mb"
      ]
     },
     "execution_count": 15,
     "metadata": {},
     "output_type": "execute_result"
    }
   ],
   "source": [
    "model.train(table=\"objdet_train128\", inputs=\"img_path\", targets=\"label_path\", gpu=[0], optimizer=optimizer)"
   ]
  },
  {
   "cell_type": "code",
   "execution_count": 16,
   "metadata": {},
   "outputs": [
    {
     "name": "stdout",
     "output_type": "stream",
     "text": [
      "NOTE: Using this GPU List on your-server.unx.company.com: [1 ].\n",
      "NOTE: No target map from nominal values to numeric values is found.\n",
      "NOTE: In the score output, expected nominal values will be in raw numeric representation.\n",
      "NOTE: Worker rank 0: your-server.unx.company.com, using up to 1 GPU devices.\n",
      "NOTE: Using your-server.unx.company.com: GPU 1 processes up to 128 records at a time.\n",
      "NOTE: Using existing dlxexe process on worker your-server.unx.company.com, rank/threadID [0/0], pid= 70489 device= GPU:1\n",
      "NOTE: The action completed successfully.\n"
     ]
    },
    {
     "data": {
      "text/html": [
       "<div class=\"cas-results-key\"><b>&#167; ScoreDetails</b></div>\n",
       "<div class=\"cas-results-body\">\n",
       "<div>\n",
       "<style scoped>\n",
       "    .dataframe tbody tr th:only-of-type {\n",
       "        vertical-align: middle;\n",
       "    }\n",
       "\n",
       "    .dataframe tbody tr th {\n",
       "        vertical-align: top;\n",
       "    }\n",
       "\n",
       "    .dataframe thead th {\n",
       "        text-align: right;\n",
       "    }\n",
       "</style>\n",
       "<table border=\"1\" class=\"dataframe\">\n",
       "  <thead>\n",
       "    <tr style=\"text-align: right;\">\n",
       "      <th title=\"\"></th>\n",
       "      <th title=\"Loss\">Loss</th>\n",
       "      <th title=\"Box Loss\">Box Loss</th>\n",
       "      <th title=\"Object Loss\">Object Loss</th>\n",
       "      <th title=\"Class Loss\">Class Loss</th>\n",
       "      <th title=\"Batch Loss\">Batch Loss</th>\n",
       "    </tr>\n",
       "  </thead>\n",
       "  <tbody>\n",
       "    <tr>\n",
       "      <td>0</td>\n",
       "      <td>9.333842</td>\n",
       "      <td>4.360626</td>\n",
       "      <td>3.977817</td>\n",
       "      <td>0.9954</td>\n",
       "      <td>9.333842</td>\n",
       "    </tr>\n",
       "  </tbody>\n",
       "</table>\n",
       "</div>\n",
       "</div>\n",
       "<div class=\"cas-output-area\"></div>\n",
       "<p class=\"cas-results-performance\"><small><span class=\"cas-elapsed\">elapsed 5.03s</span> &#183; <span class=\"cas-user\">user 0.0398s</span> &#183; <span class=\"cas-sys\">sys 0.0329s</span> &#183; <span class=\"cas-memory\">mem 6.53MB</span></small></p>"
      ],
      "text/plain": [
       "[ScoreDetails]\n",
       "\n",
       "        Loss  Box Loss  Object Loss  Class Loss  Batch Loss\n",
       " 0  9.333842  4.360626     3.977817      0.9954    9.333842\n",
       "\n",
       "+ Elapsed: 5.03s, user: 0.0398s, sys: 0.0329s, mem: 6.53mb"
      ]
     },
     "execution_count": 16,
     "metadata": {},
     "output_type": "execute_result"
    }
   ],
   "source": [
    "model.score(table=\"OBJDET_TRAIN128\", inputs=\"img_path\", targets=\"label_path\", gpu=[1], batch_size=128)"
   ]
  },
  {
   "cell_type": "code",
   "execution_count": null,
   "metadata": {},
   "outputs": [],
   "source": []
  }
 ],
 "metadata": {
  "kernelspec": {
   "display_name": "Python 3 (ipykernel)",
   "language": "python",
   "name": "python3"
  },
  "language_info": {
   "codemirror_mode": {
    "name": "ipython",
    "version": 3
   },
   "file_extension": ".py",
   "mimetype": "text/x-python",
   "name": "python",
   "nbconvert_exporter": "python",
   "pygments_lexer": "ipython3",
   "version": "3.8.13"
  }
 },
 "nbformat": 4,
 "nbformat_minor": 2
}
