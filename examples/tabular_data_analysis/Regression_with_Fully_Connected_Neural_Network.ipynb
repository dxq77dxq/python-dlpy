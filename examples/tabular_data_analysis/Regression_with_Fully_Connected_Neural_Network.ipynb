{
 "cells": [
  {
   "cell_type": "markdown",
   "metadata": {},
   "source": [
    "##  Using SAS DLPy to Create a Neural Network Model for Regression Using Tabular Data  "
   ]
  },
  {
   "cell_type": "markdown",
   "metadata": {},
   "source": [
    "You can use SAS DLPy to  easily create and train a variety of basic task-oriented deep learning models. This notebook example shows how you can use SAS DLPy to build a fully-connected neural network regression model using tabular data. The model in this notebook uses tables of numeric values to perform a regression task: predict the price of a California home, based on eight housing attributes such as house age, location, average number of bedrooms, population, and so on. \n",
    "\n",
    "The clean tabular data used to create the model is the [Scikit-Learn California Housing data set](https://scikit-learn.org/stable/datasets/real_world.html#california-housing-dataset). The California housing data is a real world data set, a 20,640-observation table of 8 numeric, predictive attributes and the target. The target variable is the median house value for California districts. The scikit-Learn data set was derived from the public 1990 U.S. census, using one row per census block group. (A block group is the smallest geographical unit for which the U.S. Census Bureau publishes sample data). The public data set was obtained from [Carnegie Mellon's StatLib repository](http://lib.stat.cmu.edu/datasets/). More technical information about the composition and use of the Scikit-learn California housing data [is available here](https://scikit-learn.org/stable/modules/generated/sklearn.datasets.fetch_california_housing.html).\n",
    "\n",
    "The learning objective of this notebook is to understand how to use SAS DLPy to create a fully-connected neural network model designed to perform a tabular data regression task, and how to use model performance plots to assess the model's predictive robustness. \n",
    "\n",
    "The notebook follows these steps: \n",
    "\n",
    "- Configure SAS DLPy and SAS CAS environments for this task.\n",
    "- Upload the California housing data to the SAS CAS server.\n",
    "- Create train and test data sets in SAS CAS.\n",
    "- Use SAS DLPy to build a fully-connected neural network regression model.\n",
    "- Train the fully-connected neural network model.\n",
    "- Evaluate the model training loss statistics.\n",
    "- Use the trained model to score the test data set.\n",
    "- Evaluate the scored test data result statistics.\n",
    "\n",
    "This tutorial example assumes that you have SAS DLPy API installed, have an active SAS CAS server, and have installed the common Python utilities used in the code (numpy, sklearn, matplotlib, Pandas)."
   ]
  },
  {
   "cell_type": "markdown",
   "metadata": {},
   "source": [
    "### Table of Contents \n",
    "- [Prepare Resources and Configure Environment for Modeling](#getReady)\n",
    "    - [Import Required Python and SAS DLPy Utilities](#importPythonDLPy)\n",
    "- [Configure SAS SWAT and Launch SAS CAS](#launchCAS)\n",
    "- [Load the Example Data](#loadData)\n",
    "    - [Partition into Train and Test Data](#partitionData)\n",
    "- [Use DLPy to Create a Neural Network Model](#createModel)\n",
    "- [Train the Neural Network Regression Model](#trainModel)\n",
    "- [Evaluate the Training Loss](#Plots)    \n",
    "    - [Mean Squared Error](#MSE)\n",
    "    - [Mean Absolute Error](#MAE)\n",
    "    - [Explained Variance Score](#explained)\n",
    "- [Score the Test Data](#scoreModel)\n",
    "    - [Mean Squared Error](#MSE2)\n",
    "    - [Mean Absolute Error](#MAE2)\n",
    "    - [Explained Variance Score](#explained2)\n",
    "- [Summary](#summary)    \n"
   ]
  },
  {
   "cell_type": "markdown",
   "metadata": {},
   "source": [
    "<a id = \"getReady\"></a>\n",
    "\n",
    "### Prepare Resources and Configure Computing Environment for Modeling\n",
    "\n",
    "Use this section to organize all of the resources you need and to configure your local computing environment in advance. This enables you to follow along with the example notebook modeling operations without interruption. "
   ]
  },
  {
   "cell_type": "markdown",
   "metadata": {},
   "source": [
    "<a id=\"importPythonDLPy\"></a>\n",
    "\n",
    "#### Import Required Python and SAS DLPy Utilities\n",
    "\n",
    "Import the Python and SAS DLPy utilities required for the model task. They include the scikit-Learn utility, the pandas data analysis library, the numPy scientific computing library, and the matplotlib plotting utility."
   ]
  },
  {
   "cell_type": "code",
   "execution_count": 1,
   "metadata": {},
   "outputs": [],
   "source": [
    "# Pandas data analysis utility\n",
    "import pandas as pd\n",
    "\n",
    "# NumPy scientific computing utility\n",
    "import numpy as np\n",
    "\n",
    "# Matplotlib plotting utility\n",
    "import matplotlib.pylab as plt\n",
    "\n",
    "# SAS DLPy model utilities\n",
    "from dlpy import Model, Sequential\n",
    "from dlpy.model import Optimizer, AdamSolver\n",
    "from dlpy.layers import * \n",
    "from dlpy.splitting import two_way_split\n",
    "from dlpy.metrics import *\n",
    "\n",
    "# Display output plots in notebook cells\n",
    "%matplotlib inline\n",
    "\n",
    "# Import scikit-Learn utility\n",
    "import sklearn\n",
    "\n",
    "# Import SAS SWAT\n",
    "import swat\n",
    "from swat import *\n",
    "\n",
    "# SWAT data message handler\n",
    "import swat.cas.datamsghandlers as dmh\n",
    "\n",
    "# SAS DLPy utility modules\n",
    "from dlpy import Model, Sequential\n",
    "from dlpy.model import Optimizer, AdamSolver\n",
    "from dlpy.layers import * \n",
    "from dlpy.splitting import two_way_split\n",
    "from dlpy.metrics import explained_variance_score, mean_squared_error, mean_absolute_error\n",
    "%matplotlib inline"
   ]
  },
  {
   "cell_type": "markdown",
   "metadata": {},
   "source": [
    "<a id=\"launchCAS\"></a>\n",
    "\n",
    "### Configure SAS SWAT and Launch SAS CAS\n",
    "\n",
    "The following code configures SAS SWAT and launches SAS CAS. SWAT is a Python interface to SAS CAS that enables you to load data into memory and apply CAS actions to the data.\n",
    "\n",
    "<b>Note:</b> For more information about starting a CAS session with the SWAT package, see https://sassoftware.github.io/python-swat/getting-started.html."
   ]
  },
  {
   "cell_type": "code",
   "execution_count": 2,
   "metadata": {},
   "outputs": [],
   "source": [
    "# Configure CAS session for Analytics\n",
    "s = CAS('your-host-name.unx.company-name.com', 5570)"
   ]
  },
  {
   "cell_type": "markdown",
   "metadata": {},
   "source": [
    "<a id=\"loadData\"></a>\n",
    "\n",
    "### Load the Example Data\n",
    "\n",
    "Use the code block below to import the scikit-Learn real-world California housing diagnostic data set, create pandas predictor and target dataframes, and then merge the two dataframes. Browse the concatenated pandas table before loading it into SAS CAS."
   ]
  },
  {
   "cell_type": "code",
   "execution_count": 3,
   "metadata": {},
   "outputs": [],
   "source": [
    "# Import California Housing data into SAS CAS\n",
    "# and save the CAS table as california_housing.\n",
    "from sklearn.datasets import fetch_california_housing\n",
    "california_housing = fetch_california_housing()\n",
    "\n",
    "# Put the california_housing contents into two pandas dataframes: \n",
    "\n",
    "# One dataframe for the predictors (ch_x_df). \n",
    "ch_x_df = pd.DataFrame(california_housing['data'], \n",
    "                       columns=california_housing['feature_names']\n",
    "                       )\n",
    "\n",
    "# One dataframe for the target (ch_y_df). \n",
    "ch_y_df = pd.DataFrame(california_housing['target'], \n",
    "                       columns=['house_value']\n",
    "                       )\n",
    "\n",
    "# Concatenate the predictor and target dataframes \n",
    "# into one dataframe with 8 feature columns and \n",
    "# 1 target column.\n",
    "ch_df = pd.concat([ch_x_df, ch_y_df], axis=1)"
   ]
  },
  {
   "cell_type": "code",
   "execution_count": 4,
   "metadata": {
    "scrolled": true
   },
   "outputs": [
    {
     "data": {
      "text/html": [
       "<div>\n",
       "<style scoped>\n",
       "    .dataframe tbody tr th:only-of-type {\n",
       "        vertical-align: middle;\n",
       "    }\n",
       "\n",
       "    .dataframe tbody tr th {\n",
       "        vertical-align: top;\n",
       "    }\n",
       "\n",
       "    .dataframe thead th {\n",
       "        text-align: right;\n",
       "    }\n",
       "</style>\n",
       "<table border=\"1\" class=\"dataframe\">\n",
       "  <thead>\n",
       "    <tr style=\"text-align: right;\">\n",
       "      <th></th>\n",
       "      <th>MedInc</th>\n",
       "      <th>HouseAge</th>\n",
       "      <th>AveRooms</th>\n",
       "      <th>AveBedrms</th>\n",
       "      <th>Population</th>\n",
       "      <th>AveOccup</th>\n",
       "      <th>Latitude</th>\n",
       "      <th>Longitude</th>\n",
       "      <th>house_value</th>\n",
       "    </tr>\n",
       "  </thead>\n",
       "  <tbody>\n",
       "    <tr>\n",
       "      <th>0</th>\n",
       "      <td>8.3252</td>\n",
       "      <td>41.0</td>\n",
       "      <td>6.984127</td>\n",
       "      <td>1.023810</td>\n",
       "      <td>322.0</td>\n",
       "      <td>2.555556</td>\n",
       "      <td>37.88</td>\n",
       "      <td>-122.23</td>\n",
       "      <td>4.526</td>\n",
       "    </tr>\n",
       "    <tr>\n",
       "      <th>1</th>\n",
       "      <td>8.3014</td>\n",
       "      <td>21.0</td>\n",
       "      <td>6.238137</td>\n",
       "      <td>0.971880</td>\n",
       "      <td>2401.0</td>\n",
       "      <td>2.109842</td>\n",
       "      <td>37.86</td>\n",
       "      <td>-122.22</td>\n",
       "      <td>3.585</td>\n",
       "    </tr>\n",
       "    <tr>\n",
       "      <th>2</th>\n",
       "      <td>7.2574</td>\n",
       "      <td>52.0</td>\n",
       "      <td>8.288136</td>\n",
       "      <td>1.073446</td>\n",
       "      <td>496.0</td>\n",
       "      <td>2.802260</td>\n",
       "      <td>37.85</td>\n",
       "      <td>-122.24</td>\n",
       "      <td>3.521</td>\n",
       "    </tr>\n",
       "    <tr>\n",
       "      <th>3</th>\n",
       "      <td>5.6431</td>\n",
       "      <td>52.0</td>\n",
       "      <td>5.817352</td>\n",
       "      <td>1.073059</td>\n",
       "      <td>558.0</td>\n",
       "      <td>2.547945</td>\n",
       "      <td>37.85</td>\n",
       "      <td>-122.25</td>\n",
       "      <td>3.413</td>\n",
       "    </tr>\n",
       "    <tr>\n",
       "      <th>4</th>\n",
       "      <td>3.8462</td>\n",
       "      <td>52.0</td>\n",
       "      <td>6.281853</td>\n",
       "      <td>1.081081</td>\n",
       "      <td>565.0</td>\n",
       "      <td>2.181467</td>\n",
       "      <td>37.85</td>\n",
       "      <td>-122.25</td>\n",
       "      <td>3.422</td>\n",
       "    </tr>\n",
       "    <tr>\n",
       "      <th>5</th>\n",
       "      <td>4.0368</td>\n",
       "      <td>52.0</td>\n",
       "      <td>4.761658</td>\n",
       "      <td>1.103627</td>\n",
       "      <td>413.0</td>\n",
       "      <td>2.139896</td>\n",
       "      <td>37.85</td>\n",
       "      <td>-122.25</td>\n",
       "      <td>2.697</td>\n",
       "    </tr>\n",
       "    <tr>\n",
       "      <th>6</th>\n",
       "      <td>3.6591</td>\n",
       "      <td>52.0</td>\n",
       "      <td>4.931907</td>\n",
       "      <td>0.951362</td>\n",
       "      <td>1094.0</td>\n",
       "      <td>2.128405</td>\n",
       "      <td>37.84</td>\n",
       "      <td>-122.25</td>\n",
       "      <td>2.992</td>\n",
       "    </tr>\n",
       "    <tr>\n",
       "      <th>7</th>\n",
       "      <td>3.1200</td>\n",
       "      <td>52.0</td>\n",
       "      <td>4.797527</td>\n",
       "      <td>1.061824</td>\n",
       "      <td>1157.0</td>\n",
       "      <td>1.788253</td>\n",
       "      <td>37.84</td>\n",
       "      <td>-122.25</td>\n",
       "      <td>2.414</td>\n",
       "    </tr>\n",
       "    <tr>\n",
       "      <th>8</th>\n",
       "      <td>2.0804</td>\n",
       "      <td>42.0</td>\n",
       "      <td>4.294118</td>\n",
       "      <td>1.117647</td>\n",
       "      <td>1206.0</td>\n",
       "      <td>2.026891</td>\n",
       "      <td>37.84</td>\n",
       "      <td>-122.26</td>\n",
       "      <td>2.267</td>\n",
       "    </tr>\n",
       "    <tr>\n",
       "      <th>9</th>\n",
       "      <td>3.6912</td>\n",
       "      <td>52.0</td>\n",
       "      <td>4.970588</td>\n",
       "      <td>0.990196</td>\n",
       "      <td>1551.0</td>\n",
       "      <td>2.172269</td>\n",
       "      <td>37.84</td>\n",
       "      <td>-122.25</td>\n",
       "      <td>2.611</td>\n",
       "    </tr>\n",
       "    <tr>\n",
       "      <th>10</th>\n",
       "      <td>3.2031</td>\n",
       "      <td>52.0</td>\n",
       "      <td>5.477612</td>\n",
       "      <td>1.079602</td>\n",
       "      <td>910.0</td>\n",
       "      <td>2.263682</td>\n",
       "      <td>37.85</td>\n",
       "      <td>-122.26</td>\n",
       "      <td>2.815</td>\n",
       "    </tr>\n",
       "  </tbody>\n",
       "</table>\n",
       "</div>"
      ],
      "text/plain": [
       "    MedInc  HouseAge  AveRooms  AveBedrms  Population  AveOccup  Latitude  \\\n",
       "0   8.3252      41.0  6.984127   1.023810       322.0  2.555556     37.88   \n",
       "1   8.3014      21.0  6.238137   0.971880      2401.0  2.109842     37.86   \n",
       "2   7.2574      52.0  8.288136   1.073446       496.0  2.802260     37.85   \n",
       "3   5.6431      52.0  5.817352   1.073059       558.0  2.547945     37.85   \n",
       "4   3.8462      52.0  6.281853   1.081081       565.0  2.181467     37.85   \n",
       "5   4.0368      52.0  4.761658   1.103627       413.0  2.139896     37.85   \n",
       "6   3.6591      52.0  4.931907   0.951362      1094.0  2.128405     37.84   \n",
       "7   3.1200      52.0  4.797527   1.061824      1157.0  1.788253     37.84   \n",
       "8   2.0804      42.0  4.294118   1.117647      1206.0  2.026891     37.84   \n",
       "9   3.6912      52.0  4.970588   0.990196      1551.0  2.172269     37.84   \n",
       "10  3.2031      52.0  5.477612   1.079602       910.0  2.263682     37.85   \n",
       "\n",
       "    Longitude  house_value  \n",
       "0     -122.23        4.526  \n",
       "1     -122.22        3.585  \n",
       "2     -122.24        3.521  \n",
       "3     -122.25        3.413  \n",
       "4     -122.25        3.422  \n",
       "5     -122.25        2.697  \n",
       "6     -122.25        2.992  \n",
       "7     -122.25        2.414  \n",
       "8     -122.26        2.267  \n",
       "9     -122.25        2.611  \n",
       "10    -122.26        2.815  "
      ]
     },
     "execution_count": 4,
     "metadata": {},
     "output_type": "execute_result"
    }
   ],
   "source": [
    "# Browse the concatenated pandas housing data.\n",
    "# Display column headings and 11 rows from the table.\n",
    "ch_df.loc[:10]"
   ]
  },
  {
   "cell_type": "markdown",
   "metadata": {},
   "source": [
    "In the table above, the rightmost column `house_value` represents the median house value for the observation's census block group. \n",
    "\n",
    "Use the `upload_frame()` function with the concatenated table `ch_df` to load the pandas dataframe to the server. The CAS table `ch_df` is loaded and saved in Python as `tbl`."
   ]
  },
  {
   "cell_type": "code",
   "execution_count": 5,
   "metadata": {},
   "outputs": [
    {
     "name": "stdout",
     "output_type": "stream",
     "text": [
      "NOTE: Cloud Analytic Services made the uploaded file available as table CH_DF in caslib CASUSER(UserID).\n",
      "NOTE: The table CH_DF has been created in caslib CASUSER(UserID) from binary data uploaded to Cloud Analytic Services.\n"
     ]
    }
   ],
   "source": [
    "tbl = s.upload_frame(ch_df, \n",
    "                     casout=dict(name='ch_df', \n",
    "                                 replace=True\n",
    "                                 )\n",
    "                     );"
   ]
  },
  {
   "cell_type": "markdown",
   "metadata": {},
   "source": [
    "<a id=\"partitionData\"></a>\n",
    "\n",
    "### Partition into Train and Test Data\n",
    "\n",
    "Split the loaded California housing table `tbl` into train and test partitions. Use the DLPy `two_way_split` function to perform random server-side sampling and partition the data into `train_tbl` and `test_tbl`. Server-side partitioning is preferable to client-side partitioning when the data is large, or when the data is already on the server. \n",
    "\n",
    "The code below partitions 80% of `tbl` into `train_tbl`, and the remaining 20% is partitioned as `test_tbl`. The `seed` value is specified to ensure repeatability of example computation results."
   ]
  },
  {
   "cell_type": "code",
   "execution_count": 6,
   "metadata": {},
   "outputs": [],
   "source": [
    "# Partition tbl into train and test data sets\n",
    "train_tbl, test_tbl = two_way_split(tbl, \n",
    "                                    # 20% test partition \n",
    "                                    test_rate=20, \n",
    "                                    # random seed value\n",
    "                                    seed=123, \n",
    "                                    # use random sampling \n",
    "                                    stratify=False, \n",
    "                                    # using tabular numeric data,\n",
    "                                    # not an image table \n",
    "                                    im_table=False)"
   ]
  },
  {
   "cell_type": "code",
   "execution_count": 7,
   "metadata": {},
   "outputs": [
    {
     "data": {
      "text/html": [
       "<div>\n",
       "<style scoped>\n",
       "    .dataframe tbody tr th:only-of-type {\n",
       "        vertical-align: middle;\n",
       "    }\n",
       "\n",
       "    .dataframe tbody tr th {\n",
       "        vertical-align: top;\n",
       "    }\n",
       "\n",
       "    .dataframe thead th {\n",
       "        text-align: right;\n",
       "    }\n",
       "</style>\n",
       "<table border=\"1\" class=\"dataframe\"><caption>Selected Rows from Table TRAIN_XDPAVO</caption>\n",
       "  <thead>\n",
       "    <tr style=\"text-align: right;\">\n",
       "      <th title=\"\"></th>\n",
       "      <th title=\"MedInc\">MedInc</th>\n",
       "      <th title=\"HouseAge\">HouseAge</th>\n",
       "      <th title=\"AveRooms\">AveRooms</th>\n",
       "      <th title=\"AveBedrms\">AveBedrms</th>\n",
       "      <th title=\"Population\">Population</th>\n",
       "      <th title=\"AveOccup\">AveOccup</th>\n",
       "      <th title=\"Latitude\">Latitude</th>\n",
       "      <th title=\"Longitude\">Longitude</th>\n",
       "      <th title=\"house_value\">house_value</th>\n",
       "    </tr>\n",
       "  </thead>\n",
       "  <tbody>\n",
       "    <tr>\n",
       "      <th>0</th>\n",
       "      <td>2.1923</td>\n",
       "      <td>52.0</td>\n",
       "      <td>3.010676</td>\n",
       "      <td>0.964413</td>\n",
       "      <td>1153.0</td>\n",
       "      <td>4.103203</td>\n",
       "      <td>34.04</td>\n",
       "      <td>-118.21</td>\n",
       "      <td>1.550</td>\n",
       "    </tr>\n",
       "    <tr>\n",
       "      <th>1</th>\n",
       "      <td>1.9402</td>\n",
       "      <td>43.0</td>\n",
       "      <td>2.819071</td>\n",
       "      <td>1.004890</td>\n",
       "      <td>1667.0</td>\n",
       "      <td>4.075795</td>\n",
       "      <td>34.05</td>\n",
       "      <td>-118.22</td>\n",
       "      <td>1.393</td>\n",
       "    </tr>\n",
       "    <tr>\n",
       "      <th>2</th>\n",
       "      <td>2.5455</td>\n",
       "      <td>47.0</td>\n",
       "      <td>3.194690</td>\n",
       "      <td>1.039823</td>\n",
       "      <td>930.0</td>\n",
       "      <td>4.115044</td>\n",
       "      <td>34.05</td>\n",
       "      <td>-118.21</td>\n",
       "      <td>1.143</td>\n",
       "    </tr>\n",
       "    <tr>\n",
       "      <th>3</th>\n",
       "      <td>1.2000</td>\n",
       "      <td>44.0</td>\n",
       "      <td>2.970430</td>\n",
       "      <td>0.930108</td>\n",
       "      <td>1598.0</td>\n",
       "      <td>4.295699</td>\n",
       "      <td>34.05</td>\n",
       "      <td>-118.22</td>\n",
       "      <td>1.156</td>\n",
       "    </tr>\n",
       "    <tr>\n",
       "      <th>4</th>\n",
       "      <td>1.5163</td>\n",
       "      <td>43.0</td>\n",
       "      <td>3.314003</td>\n",
       "      <td>1.135785</td>\n",
       "      <td>2468.0</td>\n",
       "      <td>3.490806</td>\n",
       "      <td>34.04</td>\n",
       "      <td>-118.22</td>\n",
       "      <td>1.150</td>\n",
       "    </tr>\n",
       "  </tbody>\n",
       "</table>\n",
       "</div>"
      ],
      "text/plain": [
       "Selected Rows from Table TRAIN_XDPAVO\n",
       "\n",
       "   MedInc  HouseAge  AveRooms  AveBedrms  Population  AveOccup  Latitude  \\\n",
       "0  2.1923      52.0  3.010676   0.964413      1153.0  4.103203     34.04   \n",
       "1  1.9402      43.0  2.819071   1.004890      1667.0  4.075795     34.05   \n",
       "2  2.5455      47.0  3.194690   1.039823       930.0  4.115044     34.05   \n",
       "3  1.2000      44.0  2.970430   0.930108      1598.0  4.295699     34.05   \n",
       "4  1.5163      43.0  3.314003   1.135785      2468.0  3.490806     34.04   \n",
       "\n",
       "   Longitude  house_value  \n",
       "0    -118.21        1.550  \n",
       "1    -118.22        1.393  \n",
       "2    -118.21        1.143  \n",
       "3    -118.22        1.156  \n",
       "4    -118.22        1.150  "
      ]
     },
     "execution_count": 7,
     "metadata": {},
     "output_type": "execute_result"
    }
   ],
   "source": [
    "# Display five rows from the \n",
    "# newly created train table.\n",
    "train_tbl.head()\n"
   ]
  },
  {
   "cell_type": "code",
   "execution_count": 8,
   "metadata": {},
   "outputs": [
    {
     "data": {
      "text/html": [
       "<div>\n",
       "<style scoped>\n",
       "    .dataframe tbody tr th:only-of-type {\n",
       "        vertical-align: middle;\n",
       "    }\n",
       "\n",
       "    .dataframe tbody tr th {\n",
       "        vertical-align: top;\n",
       "    }\n",
       "\n",
       "    .dataframe thead th {\n",
       "        text-align: right;\n",
       "    }\n",
       "</style>\n",
       "<table border=\"1\" class=\"dataframe\"><caption>Selected Rows from Table TEST_MHXVII</caption>\n",
       "  <thead>\n",
       "    <tr style=\"text-align: right;\">\n",
       "      <th title=\"\"></th>\n",
       "      <th title=\"MedInc\">MedInc</th>\n",
       "      <th title=\"HouseAge\">HouseAge</th>\n",
       "      <th title=\"AveRooms\">AveRooms</th>\n",
       "      <th title=\"AveBedrms\">AveBedrms</th>\n",
       "      <th title=\"Population\">Population</th>\n",
       "      <th title=\"AveOccup\">AveOccup</th>\n",
       "      <th title=\"Latitude\">Latitude</th>\n",
       "      <th title=\"Longitude\">Longitude</th>\n",
       "      <th title=\"house_value\">house_value</th>\n",
       "    </tr>\n",
       "  </thead>\n",
       "  <tbody>\n",
       "    <tr>\n",
       "      <th>0</th>\n",
       "      <td>3.5240</td>\n",
       "      <td>45.0</td>\n",
       "      <td>5.213964</td>\n",
       "      <td>1.015766</td>\n",
       "      <td>1006.0</td>\n",
       "      <td>2.265766</td>\n",
       "      <td>37.72</td>\n",
       "      <td>-122.13</td>\n",
       "      <td>1.862</td>\n",
       "    </tr>\n",
       "    <tr>\n",
       "      <th>1</th>\n",
       "      <td>3.9032</td>\n",
       "      <td>19.0</td>\n",
       "      <td>5.001422</td>\n",
       "      <td>1.009957</td>\n",
       "      <td>1810.0</td>\n",
       "      <td>2.574680</td>\n",
       "      <td>37.70</td>\n",
       "      <td>-122.13</td>\n",
       "      <td>2.180</td>\n",
       "    </tr>\n",
       "    <tr>\n",
       "      <th>2</th>\n",
       "      <td>3.3950</td>\n",
       "      <td>17.0</td>\n",
       "      <td>3.701400</td>\n",
       "      <td>1.195956</td>\n",
       "      <td>1216.0</td>\n",
       "      <td>1.891135</td>\n",
       "      <td>37.69</td>\n",
       "      <td>-122.13</td>\n",
       "      <td>2.713</td>\n",
       "    </tr>\n",
       "    <tr>\n",
       "      <th>3</th>\n",
       "      <td>3.9702</td>\n",
       "      <td>36.0</td>\n",
       "      <td>5.297071</td>\n",
       "      <td>0.953975</td>\n",
       "      <td>606.0</td>\n",
       "      <td>2.535565</td>\n",
       "      <td>37.70</td>\n",
       "      <td>-122.14</td>\n",
       "      <td>1.941</td>\n",
       "    </tr>\n",
       "    <tr>\n",
       "      <th>4</th>\n",
       "      <td>3.6625</td>\n",
       "      <td>38.0</td>\n",
       "      <td>5.612613</td>\n",
       "      <td>0.995495</td>\n",
       "      <td>637.0</td>\n",
       "      <td>2.869369</td>\n",
       "      <td>37.69</td>\n",
       "      <td>-122.15</td>\n",
       "      <td>1.846</td>\n",
       "    </tr>\n",
       "  </tbody>\n",
       "</table>\n",
       "</div>"
      ],
      "text/plain": [
       "Selected Rows from Table TEST_MHXVII\n",
       "\n",
       "   MedInc  HouseAge  AveRooms  AveBedrms  Population  AveOccup  Latitude  \\\n",
       "0  3.5240      45.0  5.213964   1.015766      1006.0  2.265766     37.72   \n",
       "1  3.9032      19.0  5.001422   1.009957      1810.0  2.574680     37.70   \n",
       "2  3.3950      17.0  3.701400   1.195956      1216.0  1.891135     37.69   \n",
       "3  3.9702      36.0  5.297071   0.953975       606.0  2.535565     37.70   \n",
       "4  3.6625      38.0  5.612613   0.995495       637.0  2.869369     37.69   \n",
       "\n",
       "   Longitude  house_value  \n",
       "0    -122.13        1.862  \n",
       "1    -122.13        2.180  \n",
       "2    -122.13        2.713  \n",
       "3    -122.14        1.941  \n",
       "4    -122.15        1.846  "
      ]
     },
     "execution_count": 8,
     "metadata": {},
     "output_type": "execute_result"
    }
   ],
   "source": [
    "# Display five rows from the \n",
    "# newly created test table.\n",
    "test_tbl.head()\n"
   ]
  },
  {
   "cell_type": "markdown",
   "metadata": {},
   "source": [
    "<a id=\"createModel\"></a>\n",
    "\n",
    "### Use SAS DLPy to Create a Fully-Connected Neural Network Model\n",
    "\n",
    "Use SAS DLPy to create a fully-connected neural network regression model with the following architecture: \n",
    "\n",
    " - One input layer\n",
    " - Two dense layers\n",
    " - 30 neurons in first dense layer \n",
    " - 10 neurons in the second dense layer\n",
    " - `relu` activation layer\n",
    " - `identity` output layer activation function\n",
    " - `normal error (squared loss)` output layer loss function \n",
    "\n",
    "Save the newly created neural network regression model in Python as `model1`, and save the model table in SAS CAS as `Simple_DNN1`."
   ]
  },
  {
   "cell_type": "code",
   "execution_count": 9,
   "metadata": {
    "scrolled": true
   },
   "outputs": [
    {
     "name": "stdout",
     "output_type": "stream",
     "text": [
      "NOTE: Input layer added.\n",
      "NOTE: Fully-connected layer added.\n",
      "NOTE: Fully-connected layer added.\n",
      "NOTE: Output layer added.\n",
      "NOTE: Model compiled successfully.\n"
     ]
    }
   ],
   "source": [
    "# Create fully-connected deep neural network 'model1'\n",
    "model1 = Sequential(s, \n",
    "                    model_table='Simple_DNN1'\n",
    "                    )\n",
    "\n",
    "# Input layer\n",
    "model1.add(InputLayer(std='STD')\n",
    "           )\n",
    "\n",
    "# Dense Layer\n",
    "model1.add(Dense(30, act='relu')\n",
    "           )\n",
    "model1.add(Dense(10, act='relu')\n",
    "          )\n",
    "\n",
    "# Output layer\n",
    "model1.add(OutputLayer(act='identity', \n",
    "                       error='normal'\n",
    "                       )\n",
    "           ) "
   ]
  },
  {
   "cell_type": "markdown",
   "metadata": {},
   "source": [
    "As an additional exercise, uncomment the bottom line of the code below, and run the cell to generate a DAG of `model1`."
   ]
  },
  {
   "cell_type": "code",
   "execution_count": null,
   "metadata": {},
   "outputs": [],
   "source": [
    "# Generate a DAG for the neural \n",
    "# network regression model.\n",
    "\n",
    "# model1.plot_network()"
   ]
  },
  {
   "attachments": {
    "SimpleNeuralNetworkRegression.PNG": {
     "image/png": "[encoded data removed]"
    }
   },
   "cell_type": "markdown",
   "metadata": {},
   "source": [
    "The generated DAG for the simple neural network regression model should resemble the following:\n",
    "\n",
    "![SimpleNeuralNetworkRegression.PNG](attachment:SimpleNeuralNetworkRegression.PNG)"
   ]
  },
  {
   "cell_type": "markdown",
   "metadata": {},
   "source": [
    "<a id=\"trainModel\"></a>\n",
    "\n",
    "### Train the Neural Network Regression Model\n",
    "\n",
    "Now use `fit()` with `model1` to train the fully-connected neural network model using a scheduled training approach with the following hyperparameter specifications:\n",
    "\n",
    "- `AdamSolver` optimizer to show a scheduled training approach using polynomial decay.\n",
    "- `learning_rate_policy='poly'` to specify the polynomial learning rate decreasing policy.\n",
    "- `power=1`, for the learning rate function $initial\\_learning\\_rate*(1 - \\frac{epoch}{max\\_epochs})^{power}$.\n",
    "- `log_level=2` to view the training log\n",
    "- `seed=1234` to support model determinism and repeatable results.\n",
    "\n",
    "Save the trained model table in Python as `result`."
   ]
  },
  {
   "cell_type": "code",
   "execution_count": 10,
   "metadata": {
    "scrolled": false
   },
   "outputs": [
    {
     "name": "stdout",
     "output_type": "stream",
     "text": [
      "NOTE: Training from scratch.\n",
      "NOTE:  Synchronous mode is enabled.\n",
      "NOTE:  The total number of parameters is 591.\n",
      "NOTE:  The approximate memory cost is 1.00 MB.\n",
      "NOTE:  Loading weights cost       0.00 (s).\n",
      "NOTE:  Initializing each layer cost       0.02 (s).\n",
      "NOTE:  The total number of threads on each worker is 32.\n",
      "NOTE:  The maximum mini-batch size per thread on each worker is 4.\n",
      "NOTE:  The maximum mini-batch size across all workers for the synchronous mode is 128.\n",
      "NOTE:  Target variable: house_value\n",
      "NOTE:  Number of input variables:     8\n",
      "NOTE:  Number of numeric input variables:      8\n",
      "NOTE:  Epoch Learning Rate        Loss  Fit Error   Time(s)\n",
      "NOTE:  0          0.02          0.3797     0.7593     0.04\n",
      "NOTE:  1        0.0196          0.2016     0.4032     0.03\n",
      "NOTE:  2        0.0192          0.1899     0.3797     0.03\n",
      "NOTE:  3        0.0188          0.1726     0.3452     0.03\n",
      "NOTE:  4        0.0184          0.1735      0.347     0.03\n",
      "....  ...       ......          ......     ......     ....\n",
      "NOTE:  45        0.002          0.1385     0.2771     0.02\n",
      "NOTE:  46       0.0016          0.1408     0.2816     0.02\n",
      "NOTE:  47       0.0012          0.1413     0.2826     0.02\n",
      "NOTE:  48       0.0008          0.1313     0.2626     0.02\n",
      "NOTE:  49       0.0004          0.1376     0.2751     0.02\n",
      "NOTE:  The optimization reached the maximum number of epochs.\n",
      "NOTE:  The total time is       1.25 (s).\n"
     ]
    }
   ],
   "source": [
    "# Specify optimizer settings for scheduled training approach\n",
    "# These optimizer settings are called in the fit() block that \n",
    "# follows.\n",
    "optimizer = Optimizer(algorithm=AdamSolver(learning_rate=0.02, \n",
    "                                           learning_rate_policy='poly', \n",
    "                                           power=1\n",
    "                                           ),\n",
    "                      mini_batch_size=4, \n",
    "                      seed=1234, \n",
    "                      max_epochs=50, \n",
    "                      log_level=2\n",
    "                      )\n",
    "\n",
    "# Train the model model1 using \n",
    "# data train_tbl, and save the  \n",
    "# trained output table as 'result' \n",
    "result = model1.fit(train_tbl, \n",
    "                    # predictor columns\n",
    "                    inputs=ch_x_df.columns.tolist(), \n",
    "                    # target column\n",
    "                    target='house_value', \n",
    "                    # optimizer settings\n",
    "                    optimizer=optimizer\n",
    "                    )"
   ]
  },
  {
   "cell_type": "markdown",
   "metadata": {},
   "source": [
    "Use the matplotlib function `plot_training_history()` with `model1` to display a graph of the model's training over 50 epochs:"
   ]
  },
  {
   "cell_type": "code",
   "execution_count": 11,
   "metadata": {},
   "outputs": [
    {
     "data": {
      "text/plain": [
       "<matplotlib.axes._subplots.AxesSubplot at 0x277d50462c8>"
      ]
     },
     "execution_count": 11,
     "metadata": {},
     "output_type": "execute_result"
    },
    {
     "data": {
      "image/png": "[encoded data removed]",
      "text/plain": [
       "<Figure size 864x360 with 1 Axes>"
      ]
     },
     "metadata": {
      "needs_background": "light"
     },
     "output_type": "display_data"
    }
   ],
   "source": [
    "# Plot the training history of 'model1' to\n",
    "# display the changing model loss and fit \n",
    "# error values over 50 epochs.\n",
    "model1.plot_training_history()"
   ]
  },
  {
   "cell_type": "markdown",
   "metadata": {},
   "source": [
    "<a id=\"Plots\"></a>\n",
    "\n",
    "### Score the Training Data to Evaluate Training Loss\n",
    "\n",
    "After training for the model `model1`, let us examine the training losses. Use the `predict()` function for `model1` with `train_tbl` to score the training data for model fit evaluation. Save the scored CAS data in `model1.valid_res_tbl` in Python as `fitted_table`."
   ]
  },
  {
   "cell_type": "code",
   "execution_count": 12,
   "metadata": {},
   "outputs": [
    {
     "name": "stdout",
     "output_type": "stream",
     "text": [
      "                         Descr         Value\n",
      "0  Number of Observations Read         16512\n",
      "1  Number of Observations Used         16512\n",
      "2           Mean Squared Error      0.274608\n",
      "3                   Loss Error      0.137304\n"
     ]
    }
   ],
   "source": [
    "# Score the model1 train table train_tbl\n",
    "# Save to Python as fitted_result\n",
    "fitted_result = model1.predict(train_tbl)\n",
    "\n",
    "# Save the CAS table with scored train \n",
    "# results as fitted_table.\n",
    "fitted_table = model1.valid_res_tbl\n",
    "\n",
    "# Display the ScoreInfo summary data  \n",
    "# for the scored train data set.\n",
    "print(fitted_result['ScoreInfo'])"
   ]
  },
  {
   "cell_type": "markdown",
   "metadata": {},
   "source": [
    "Use the `head()` function to show the first five rows of the scored train table `fitted_table`."
   ]
  },
  {
   "cell_type": "code",
   "execution_count": 13,
   "metadata": {},
   "outputs": [
    {
     "data": {
      "text/html": [
       "<div>\n",
       "<style scoped>\n",
       "    .dataframe tbody tr th:only-of-type {\n",
       "        vertical-align: middle;\n",
       "    }\n",
       "\n",
       "    .dataframe tbody tr th {\n",
       "        vertical-align: top;\n",
       "    }\n",
       "\n",
       "    .dataframe thead th {\n",
       "        text-align: right;\n",
       "    }\n",
       "</style>\n",
       "<table border=\"1\" class=\"dataframe\"><caption>Selected Rows from Table VALID_RES_O78AWU</caption>\n",
       "  <thead>\n",
       "    <tr style=\"text-align: right;\">\n",
       "      <th title=\"\"></th>\n",
       "      <th title=\"MedInc\">MedInc</th>\n",
       "      <th title=\"HouseAge\">HouseAge</th>\n",
       "      <th title=\"AveRooms\">AveRooms</th>\n",
       "      <th title=\"AveBedrms\">AveBedrms</th>\n",
       "      <th title=\"Population\">Population</th>\n",
       "      <th title=\"AveOccup\">AveOccup</th>\n",
       "      <th title=\"Latitude\">Latitude</th>\n",
       "      <th title=\"Longitude\">Longitude</th>\n",
       "      <th title=\"house_value\">house_value</th>\n",
       "      <th title=\"P_house_value\">P_house_value</th>\n",
       "    </tr>\n",
       "  </thead>\n",
       "  <tbody>\n",
       "    <tr>\n",
       "      <th>0</th>\n",
       "      <td>2.1923</td>\n",
       "      <td>52.0</td>\n",
       "      <td>3.010676</td>\n",
       "      <td>0.964413</td>\n",
       "      <td>1153.0</td>\n",
       "      <td>4.103203</td>\n",
       "      <td>34.04</td>\n",
       "      <td>-118.21</td>\n",
       "      <td>1.550</td>\n",
       "      <td>1.310263</td>\n",
       "    </tr>\n",
       "    <tr>\n",
       "      <th>1</th>\n",
       "      <td>1.9402</td>\n",
       "      <td>43.0</td>\n",
       "      <td>2.819071</td>\n",
       "      <td>1.004890</td>\n",
       "      <td>1667.0</td>\n",
       "      <td>4.075795</td>\n",
       "      <td>34.05</td>\n",
       "      <td>-118.22</td>\n",
       "      <td>1.393</td>\n",
       "      <td>1.479430</td>\n",
       "    </tr>\n",
       "    <tr>\n",
       "      <th>2</th>\n",
       "      <td>2.5455</td>\n",
       "      <td>47.0</td>\n",
       "      <td>3.194690</td>\n",
       "      <td>1.039823</td>\n",
       "      <td>930.0</td>\n",
       "      <td>4.115044</td>\n",
       "      <td>34.05</td>\n",
       "      <td>-118.21</td>\n",
       "      <td>1.143</td>\n",
       "      <td>1.422569</td>\n",
       "    </tr>\n",
       "    <tr>\n",
       "      <th>3</th>\n",
       "      <td>1.2000</td>\n",
       "      <td>44.0</td>\n",
       "      <td>2.970430</td>\n",
       "      <td>0.930108</td>\n",
       "      <td>1598.0</td>\n",
       "      <td>4.295699</td>\n",
       "      <td>34.05</td>\n",
       "      <td>-118.22</td>\n",
       "      <td>1.156</td>\n",
       "      <td>0.988461</td>\n",
       "    </tr>\n",
       "    <tr>\n",
       "      <th>4</th>\n",
       "      <td>1.5163</td>\n",
       "      <td>43.0</td>\n",
       "      <td>3.314003</td>\n",
       "      <td>1.135785</td>\n",
       "      <td>2468.0</td>\n",
       "      <td>3.490806</td>\n",
       "      <td>34.04</td>\n",
       "      <td>-118.22</td>\n",
       "      <td>1.150</td>\n",
       "      <td>1.740667</td>\n",
       "    </tr>\n",
       "  </tbody>\n",
       "</table>\n",
       "</div>"
      ],
      "text/plain": [
       "Selected Rows from Table VALID_RES_O78AWU\n",
       "\n",
       "   MedInc  HouseAge  AveRooms  AveBedrms  Population  AveOccup  Latitude  \\\n",
       "0  2.1923      52.0  3.010676   0.964413      1153.0  4.103203     34.04   \n",
       "1  1.9402      43.0  2.819071   1.004890      1667.0  4.075795     34.05   \n",
       "2  2.5455      47.0  3.194690   1.039823       930.0  4.115044     34.05   \n",
       "3  1.2000      44.0  2.970430   0.930108      1598.0  4.295699     34.05   \n",
       "4  1.5163      43.0  3.314003   1.135785      2468.0  3.490806     34.04   \n",
       "\n",
       "   Longitude  house_value  P_house_value  \n",
       "0    -118.21        1.550       1.310263  \n",
       "1    -118.22        1.393       1.479430  \n",
       "2    -118.21        1.143       1.422569  \n",
       "3    -118.22        1.156       0.988461  \n",
       "4    -118.22        1.150       1.740667  "
      ]
     },
     "execution_count": 13,
     "metadata": {},
     "output_type": "execute_result"
    }
   ],
   "source": [
    "# Display the first five rows of\n",
    "# the scored train data set.\n",
    "fitted_table.head()"
   ]
  },
  {
   "cell_type": "markdown",
   "metadata": {},
   "source": [
    "<a id=\"MSE\"></a>\n",
    "\n",
    "#### Mean Squared Error\n",
    "\n",
    "We can use the scored train data set to evaluate the model performance metrics.  For example, we can calculate the MSE. Mean squared error is calculated as the average squared difference between the actual value and the estimated (scored) values. The MSE statistic measures the quality of a predictive estimator.\n",
    "\n",
    "Use the SAS DLPy `mean_squared_error()` function with the table `fitted_table` to compare the MSE between the ground truth `house_value` and the trained model's predicted `P_house_value`. MSE values closer to 0 are preferred."
   ]
  },
  {
   "cell_type": "code",
   "execution_count": 14,
   "metadata": {},
   "outputs": [
    {
     "name": "stdout",
     "output_type": "stream",
     "text": [
      "The Mean Squared Error for the scored train data is 0.274608.\n"
     ]
    }
   ],
   "source": [
    "# Evaluate the MSE using \n",
    "# dlpy.metrics.mean_squared_error\n",
    "mse = mean_squared_error(fitted_table['house_value'], \n",
    "                         fitted_table['P_house_value']\n",
    "                         )\n",
    "print('The Mean Squared Error for the scored train data is {:.6f}.'.format(mse))"
   ]
  },
  {
   "cell_type": "markdown",
   "metadata": {},
   "source": [
    "<a id=\"MAE\"></a>\n",
    "\n",
    "#### Mean Absolute Error\n",
    "\n",
    "We can also use the scored data set to calculate another model accuracy measure, the MAE (Mean Absolute Error) statistic. The MAE is the mean of all absolute errors.  \n",
    "\n",
    "Use the SAS DLPy `mean_absolute_error()` function with the table `fitted_table` to compare the MAE between the ground truth `house_value` and the trained model's predicted `P_house_value`. MAE values closer to 0 are preferred."
   ]
  },
  {
   "cell_type": "code",
   "execution_count": 15,
   "metadata": {},
   "outputs": [
    {
     "name": "stdout",
     "output_type": "stream",
     "text": [
      "The Mean Absolute Error for the scored train data is 0.360361.\n"
     ]
    }
   ],
   "source": [
    "# Evaluate the MAE using \n",
    "# dlpy.metrics.mean_absolute_error\n",
    "mae = mean_absolute_error(fitted_table['house_value'], \n",
    "                          fitted_table['P_house_value']\n",
    "                          )\n",
    "print('The Mean Absolute Error for the scored train data is {:.6f}.'.format(mae))"
   ]
  },
  {
   "cell_type": "markdown",
   "metadata": {},
   "source": [
    "<a id=\"explained\"></a>\n",
    "\n",
    "#### Explained Variance Score\n",
    "\n",
    "Finally, we can use the scored data and the explained variance score to measure the predictive model accuracy. Explained variance indicates the discrepancy between the ground truth and the predicted values. The explained variance score statistic describes the part of the model's total variance that can be explained by factors that are present, as opposed to differences due to error variance.  Values closer to 0 are bad and values closest to 1 are desirable. \n",
    "\n",
    "Use the SAS DLPy `explained_variance_score()` function with the table `fitted_table` to examine the explained variance between the ground truth `house_value` and the trained model's predicted `P_house_value`. Explained variance percentages close to 0 are undesirable, percentages closest to 100 are desirable. "
   ]
  },
  {
   "cell_type": "code",
   "execution_count": 16,
   "metadata": {},
   "outputs": [
    {
     "name": "stdout",
     "output_type": "stream",
     "text": [
      "79.53% of the target variable variance in the scored train data \n",
      "can be explained by the model.\n"
     ]
    }
   ],
   "source": [
    "# Evaluate the explained variance score \n",
    "# using dlpy.metrics.explained_variance_score\n",
    "evs = explained_variance_score(fitted_table['house_value'], \n",
    "                               fitted_table['P_house_value']\n",
    "                               )\n",
    "print('{:.2f}% of the target variable variance in the scored train data '.format(evs*100))\n",
    "print('can be explained by the model.')"
   ]
  },
  {
   "cell_type": "markdown",
   "metadata": {},
   "source": [
    "<a id=\"scoreModel\"></a>\n",
    "\n",
    "### Score the Test Data Using Trained Neural Network Model\n",
    "\n",
    "Now use the `predict()` function for `model1` with `test_tbl` to score the test data. Save the scored data in `model1.valid_res_tbl` in Python as `test_result_table`."
   ]
  },
  {
   "cell_type": "code",
   "execution_count": 17,
   "metadata": {},
   "outputs": [
    {
     "name": "stdout",
     "output_type": "stream",
     "text": [
      "                         Descr         Value\n",
      "0  Number of Observations Read          4128\n",
      "1  Number of Observations Used          4128\n",
      "2           Mean Squared Error      0.275125\n",
      "3                   Loss Error      0.137563\n"
     ]
    }
   ],
   "source": [
    "# Use model1 to score the test data test_tbl.\n",
    "test_result = model1.predict(test_tbl)\n",
    "\n",
    "# Save the scored data table as test_result_table.\n",
    "test_result_table  = model1.valid_res_tbl\n",
    "\n",
    "# Display the ScoreInfo summary data  \n",
    "# for the scored test data set.\n",
    "print(test_result['ScoreInfo'])"
   ]
  },
  {
   "cell_type": "code",
   "execution_count": 18,
   "metadata": {},
   "outputs": [
    {
     "data": {
      "text/html": [
       "<div>\n",
       "<style scoped>\n",
       "    .dataframe tbody tr th:only-of-type {\n",
       "        vertical-align: middle;\n",
       "    }\n",
       "\n",
       "    .dataframe tbody tr th {\n",
       "        vertical-align: top;\n",
       "    }\n",
       "\n",
       "    .dataframe thead th {\n",
       "        text-align: right;\n",
       "    }\n",
       "</style>\n",
       "<table border=\"1\" class=\"dataframe\"><caption>Selected Rows from Table VALID_RES_O78AWU</caption>\n",
       "  <thead>\n",
       "    <tr style=\"text-align: right;\">\n",
       "      <th title=\"\"></th>\n",
       "      <th title=\"MedInc\">MedInc</th>\n",
       "      <th title=\"HouseAge\">HouseAge</th>\n",
       "      <th title=\"AveRooms\">AveRooms</th>\n",
       "      <th title=\"AveBedrms\">AveBedrms</th>\n",
       "      <th title=\"Population\">Population</th>\n",
       "      <th title=\"AveOccup\">AveOccup</th>\n",
       "      <th title=\"Latitude\">Latitude</th>\n",
       "      <th title=\"Longitude\">Longitude</th>\n",
       "      <th title=\"house_value\">house_value</th>\n",
       "      <th title=\"P_house_value\">P_house_value</th>\n",
       "    </tr>\n",
       "  </thead>\n",
       "  <tbody>\n",
       "    <tr>\n",
       "      <th>0</th>\n",
       "      <td>3.5240</td>\n",
       "      <td>45.0</td>\n",
       "      <td>5.213964</td>\n",
       "      <td>1.015766</td>\n",
       "      <td>1006.0</td>\n",
       "      <td>2.265766</td>\n",
       "      <td>37.72</td>\n",
       "      <td>-122.13</td>\n",
       "      <td>1.862</td>\n",
       "      <td>2.371657</td>\n",
       "    </tr>\n",
       "    <tr>\n",
       "      <th>1</th>\n",
       "      <td>3.9032</td>\n",
       "      <td>19.0</td>\n",
       "      <td>5.001422</td>\n",
       "      <td>1.009957</td>\n",
       "      <td>1810.0</td>\n",
       "      <td>2.574680</td>\n",
       "      <td>37.70</td>\n",
       "      <td>-122.13</td>\n",
       "      <td>2.180</td>\n",
       "      <td>2.116483</td>\n",
       "    </tr>\n",
       "    <tr>\n",
       "      <th>2</th>\n",
       "      <td>3.3950</td>\n",
       "      <td>17.0</td>\n",
       "      <td>3.701400</td>\n",
       "      <td>1.195956</td>\n",
       "      <td>1216.0</td>\n",
       "      <td>1.891135</td>\n",
       "      <td>37.69</td>\n",
       "      <td>-122.13</td>\n",
       "      <td>2.713</td>\n",
       "      <td>2.139857</td>\n",
       "    </tr>\n",
       "    <tr>\n",
       "      <th>3</th>\n",
       "      <td>3.9702</td>\n",
       "      <td>36.0</td>\n",
       "      <td>5.297071</td>\n",
       "      <td>0.953975</td>\n",
       "      <td>606.0</td>\n",
       "      <td>2.535565</td>\n",
       "      <td>37.70</td>\n",
       "      <td>-122.14</td>\n",
       "      <td>1.941</td>\n",
       "      <td>1.932699</td>\n",
       "    </tr>\n",
       "    <tr>\n",
       "      <th>4</th>\n",
       "      <td>3.6625</td>\n",
       "      <td>38.0</td>\n",
       "      <td>5.612613</td>\n",
       "      <td>0.995495</td>\n",
       "      <td>637.0</td>\n",
       "      <td>2.869369</td>\n",
       "      <td>37.69</td>\n",
       "      <td>-122.15</td>\n",
       "      <td>1.846</td>\n",
       "      <td>1.830478</td>\n",
       "    </tr>\n",
       "  </tbody>\n",
       "</table>\n",
       "</div>"
      ],
      "text/plain": [
       "Selected Rows from Table VALID_RES_O78AWU\n",
       "\n",
       "   MedInc  HouseAge  AveRooms  AveBedrms  Population  AveOccup  Latitude  \\\n",
       "0  3.5240      45.0  5.213964   1.015766      1006.0  2.265766     37.72   \n",
       "1  3.9032      19.0  5.001422   1.009957      1810.0  2.574680     37.70   \n",
       "2  3.3950      17.0  3.701400   1.195956      1216.0  1.891135     37.69   \n",
       "3  3.9702      36.0  5.297071   0.953975       606.0  2.535565     37.70   \n",
       "4  3.6625      38.0  5.612613   0.995495       637.0  2.869369     37.69   \n",
       "\n",
       "   Longitude  house_value  P_house_value  \n",
       "0    -122.13        1.862       2.371657  \n",
       "1    -122.13        2.180       2.116483  \n",
       "2    -122.13        2.713       2.139857  \n",
       "3    -122.14        1.941       1.932699  \n",
       "4    -122.15        1.846       1.830478  "
      ]
     },
     "execution_count": 18,
     "metadata": {},
     "output_type": "execute_result"
    }
   ],
   "source": [
    "# Display 5 sample rows from the scored\n",
    "# test data set result table.\n",
    "test_result_table.head()"
   ]
  },
  {
   "cell_type": "markdown",
   "metadata": {},
   "source": [
    "<a id=\"MSE2\"></a>\n",
    "\n",
    "#### Mean Squared Error\n",
    "\n",
    "Now we can use the scored test data set to evaluate the model performance metrics.  For example, we can calculate the MSE (Mean Squared Error), the average squared difference between the estimated (scored) values and the ground truth value. The MSE statistic measures the quality of a model predictor. \n",
    "\n",
    "Use the SAS DLPy `mean_squared_error()` function with the table `test_result_table` to compare the MSE between the ground truth `house_value` and the trained model's predicted `P_house_value`. MSE values closer to 0 are desirable."
   ]
  },
  {
   "cell_type": "code",
   "execution_count": 19,
   "metadata": {},
   "outputs": [
    {
     "name": "stdout",
     "output_type": "stream",
     "text": [
      "The Mean Squared Error for the scored test data is 0.275125.\n"
     ]
    }
   ],
   "source": [
    "# Evaluate the MSE using \n",
    "# dlpy.metrics.mean_squared_error\n",
    "mse = mean_squared_error(test_result_table['house_value'], \n",
    "                         test_result_table['P_house_value']\n",
    "                         )\n",
    "print('The Mean Squared Error for the scored test data is {:.6f}.'.format(mse))"
   ]
  },
  {
   "cell_type": "markdown",
   "metadata": {},
   "source": [
    "<a id=\"MAE2\"></a>\n",
    "\n",
    "#### Mean Absolute Error\n",
    "\n",
    "We can also use the scored test data set to calculate the MAE (Mean Absolute Error) statistic. The MAE is the mean of all absolute errors in the scored data. A MAE score close to 0 is desirable.  \n",
    "\n",
    "Use the SAS DLPy `mean_absolute_error()` function with the table `test_result_table` to compare the MAE between the ground truth `house_value` and the trained model's predicted `P_house_value`. MAE values closer to 0 are desirable."
   ]
  },
  {
   "cell_type": "code",
   "execution_count": 20,
   "metadata": {},
   "outputs": [
    {
     "name": "stdout",
     "output_type": "stream",
     "text": [
      "The Mean Absolute Error for the scored test data is 0.364937.\n"
     ]
    }
   ],
   "source": [
    "# Evaluate the MAE using dlpy.metrics.mean_absolute_error\n",
    "mae = mean_absolute_error(test_result_table['house_value'], \n",
    "                          test_result_table['P_house_value']\n",
    "                          )\n",
    "print('The Mean Absolute Error for the scored test data is {:.6f}.'.format(mae))"
   ]
  },
  {
   "cell_type": "markdown",
   "metadata": {},
   "source": [
    "<a id=\"explained2\"></a>\n",
    "\n",
    "#### Explained Variance Score\n",
    "\n",
    "Finally, we can use the scored data and the explained variance score to measure the predictive model accuracy. Explained variance examines the discrepancy between the ground truth and the predicted values. The explained variance score describes the portion of the model's total variance that can be explained by existing model factors, as opposed to differences due to error variance.  Explained variance percentage values close to 0 are undesirable, percentage values close to 100% are desirable. \n",
    "\n",
    "Use the SAS DLPy `explained_variance_score()` function with the test results table to analyze explained variance for predicted house values versus ground truth house values. The greater the percentage of explained variance, the less randomness there is in the model predictions."
   ]
  },
  {
   "cell_type": "code",
   "execution_count": 21,
   "metadata": {},
   "outputs": [
    {
     "name": "stdout",
     "output_type": "stream",
     "text": [
      "78.76% of the target variable variance in the scored test data\n",
      "can be explained by the model.\n"
     ]
    }
   ],
   "source": [
    "# Evaluate the model's explained variance  \n",
    "# using dlpy.metrics.explained_variance_score\n",
    "evs = explained_variance_score(test_result_table['house_value'], \n",
    "                               test_result_table['P_house_value']\n",
    "                               )\n",
    "print('{:.2f}% of the target variable variance in the scored test data'.format(evs*100))\n",
    "print('can be explained by the model.')"
   ]
  },
  {
   "cell_type": "markdown",
   "metadata": {},
   "source": [
    "<a id=\"summary\"></a>\n",
    "\n",
    "### Summary\n",
    "\n",
    "It is relatively easy to create and modify task-centric models using SAS DLPy. This example showed how to use SAS DLPy to create a fully-connected neural network model for a regression task using tabular data. It showed how to use DLPy to score data with a trained model, and it also showed how to use DLPy to generate and view multiple performance metrics (MSE, MAE, and Explained Variance) using scored data table output from the trained neural network model."
   ]
  }
 ],
 "metadata": {
  "kernelspec": {
   "display_name": "Python 3",
   "language": "python",
   "name": "python3"
  },
  "language_info": {
   "codemirror_mode": {
    "name": "ipython",
    "version": 3
   },
   "file_extension": ".py",
   "mimetype": "text/x-python",
   "name": "python",
   "nbconvert_exporter": "python",
   "pygments_lexer": "ipython3",
   "version": "3.7.4"
  }
 },
 "nbformat": 4,
 "nbformat_minor": 2
}
